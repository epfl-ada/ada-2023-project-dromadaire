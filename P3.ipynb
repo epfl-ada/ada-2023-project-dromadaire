{
 "cells": [
  {
   "cell_type": "code",
   "execution_count": 56,
   "metadata": {},
   "outputs": [],
   "source": [
    "import pandas as pd\n",
    "import numpy as np\n",
    "import matplotlib.pyplot as plt\n",
    "%matplotlib inline\n",
    "import seaborn as sns\n",
    "import math\n",
    "import ast\n",
    "import progressbar\n",
    "import os"
   ]
  },
  {
   "cell_type": "markdown",
   "metadata": {},
   "source": [
    "## Import the data\n",
    " First we load all the datasets that we will be using."
   ]
  },
  {
   "cell_type": "code",
   "execution_count": 57,
   "metadata": {},
   "outputs": [],
   "source": [
    "# Data paths (folder and path are seperated in order to easily check if the pickle version of the file exists)\n",
    "characters_metadata_path    = {'path':'./data/MovieSummaries/character.metadata',   'extension':'.tsv'}\n",
    "movies_metadata_path        = {'path':'./data/MovieSummaries/movie.metadata',       'extension':'.tsv'}\n",
    "movie_summaries_path        = {'path':'./data/MovieSummaries/plot_summaries',       'extension':'.txt'}\n",
    "\n",
    "imdb_names_path         = {'path':'./data/imdb/imdb_names',         'extension':'.tsv'} \n",
    "imdb_principals_path    = {'path':'./data/imdb/imdb_principals',    'extension':'.tsv'}\n",
    "imdb_ratings_path       = {'path':'./data/imdb/imdb_ratings',       'extension':'.tsv'} \n",
    "imdb_titles_path        = {'path':'./data/imdb/imdb_titles',        'extension':'.tsv'}\n",
    "\n",
    "kaggle_awards_path = {'path':'./data/kaggle/the_oscar_award', 'extension':'.csv'}\n",
    "\n",
    "# Column names for the MCU datasets (since they are not provided in the datasets themselves)\n",
    "colnames_charac = ['Wikipedia movie ID', 'Freebase movie ID', 'Movie release date', 'Character name', 'Actor date of birth', 'Actor gender', 'Actor height', 'Actor ethnicity', 'Actor name', 'Actor age', 'Freebase character/actor map ID', 'Freebase character ID', 'Freebase actor ID']\n",
    "colnames_movie = ['Wikipedia movie ID', 'Freebase movie ID', 'Movie name', 'Movie release date', 'Movie box office revenue', 'Movie runtime', 'Movie languages', 'Movie countries', 'Movie genres'] \n",
    "colnames_plot = ['Wikipedia movie ID', 'Plot'] "
   ]
  },
  {
   "cell_type": "markdown",
   "metadata": {},
   "source": [
    "For efficiency, we use pickle in order to speed up the loading process."
   ]
  },
  {
   "cell_type": "code",
   "execution_count": 58,
   "metadata": {},
   "outputs": [],
   "source": [
    "pkl_extension = \".pkl\"\n",
    "\n",
    "# Load the dataset given the data dict containing the path and the file extension and check if \n",
    "# the pickle exists and either load it or create it and return the dataframe\n",
    "def load_and_pickle(data_dict, default_load):\n",
    "    if os.path.exists(data_dict['path'] + pkl_extension):\n",
    "        print('Pickle file found for {} .'.format(data_dict['path']))\n",
    "        return pd.read_pickle(data_dict['path'] + pkl_extension)\n",
    "    else:\n",
    "        print('No pickle found for {}. Creating it...'.format(data_dict['path']))\n",
    "        df = default_load(''.join(data_dict.values()))\n",
    "        df.to_pickle(data_dict['path'] + pkl_extension)\n",
    "        return df"
   ]
  },
  {
   "cell_type": "code",
   "execution_count": 59,
   "metadata": {},
   "outputs": [
    {
     "name": "stdout",
     "output_type": "stream",
     "text": [
      "Pickle file found for ./data/MovieSummaries/character.metadata .\n",
      "Pickle file found for ./data/MovieSummaries/movie.metadata .\n",
      "Pickle file found for ./data/MovieSummaries/plot_summaries .\n",
      "Pickle file found for ./data/imdb/imdb_names .\n",
      "Pickle file found for ./data/imdb/imdb_principals .\n",
      "Pickle file found for ./data/imdb/imdb_ratings .\n",
      "Pickle file found for ./data/imdb/imdb_titles .\n",
      "Pickle file found for ./data/kaggle/the_oscar_award .\n"
     ]
    }
   ],
   "source": [
    "# N.B takes ~2 minute without pickles, ~20 seconds with pickles\n",
    "\n",
    "# Load datasets \n",
    "meta_charac_raw = load_and_pickle(characters_metadata_path, lambda path: pd.read_csv(path, names=colnames_charac, sep='\\t'))\n",
    "meta_movie_raw  = load_and_pickle(movies_metadata_path, lambda path: pd.read_csv(path, names=colnames_movie, sep='\\t'))\n",
    "plot            = load_and_pickle(movie_summaries_path, lambda path: pd.read_csv(path, names=colnames_plot, sep='\\t'))\n",
    "\n",
    "# Load IMDb datasets\n",
    "imdb_names      = load_and_pickle(imdb_names_path, lambda path: pd.read_csv(path, header=0, sep='\\t'))\n",
    "imdb_principals = load_and_pickle(imdb_principals_path, lambda path: pd.read_csv(path, header=0, sep='\\t'))\n",
    "imdb_raitings   = load_and_pickle(imdb_ratings_path, lambda path: pd.read_csv(path, header=0 , sep='\\t'))\n",
    "imdb_title_raw  = load_and_pickle(imdb_titles_path, lambda path: pd.read_csv(path, header=0, sep='\\t', dtype= 'string'))\n",
    "\n",
    "# Load kaggle awards dataset\n",
    "kaggle_awards_raw = load_and_pickle(kaggle_awards_path, lambda path: pd.read_csv(path, header=0))"
   ]
  },
  {
   "cell_type": "markdown",
   "metadata": {},
   "source": [
    "## Shaping the datasets\n",
    "\n",
    "Here the goal is simply to make sure that the columns in datasets have correct types and to remove columns that we won't be needing so as not to clutter our analysis"
   ]
  },
  {
   "cell_type": "code",
   "execution_count": 60,
   "metadata": {},
   "outputs": [],
   "source": [
    "# Select columns of the original dataset\n",
    "meta_charac = meta_charac_raw.drop(['Freebase movie ID', 'Freebase character/actor map ID', 'Freebase character ID', 'Freebase actor ID'], axis=1).copy()\n",
    "meta_movie = meta_movie_raw.drop(['Freebase movie ID', 'Movie languages', 'Movie countries'], axis=1).copy()\n",
    "\n",
    "# Select colomns of IMDb datasets\n",
    "imdb_title = imdb_title_raw.drop(['endYear', 'runtimeMinutes'], axis=1).copy()\n",
    "\n",
    "# Select columns of kaggle awards dataset\n",
    "kaggle_awards = kaggle_awards_raw.drop(['category'], axis = 1).copy()"
   ]
  },
  {
   "cell_type": "code",
   "execution_count": 61,
   "metadata": {},
   "outputs": [],
   "source": [
    "# For consistency we remove day and month from actor date of birth and movie release date.\n",
    "meta_movie[\"Movie release date\"] = meta_movie[\"Movie release date\"].apply(lambda x: x.split(\"-\")[0] if type(x) == str else x).astype(pd.Int64Dtype())\n",
    "meta_charac[\"Movie release date\"] = meta_charac[\"Movie release date\"].apply(lambda x: x.split(\"-\")[0] if type(x) == str else x).astype(pd.Int64Dtype())\n",
    "meta_charac[\"Actor date of birth\"] = meta_charac[\"Actor date of birth\"].apply(lambda x: x.split(\"-\")[0] if type(x) == str else x).astype(pd.Int64Dtype())\n",
    "\n",
    "# Turn movie genres into dictionary\n",
    "meta_movie['Movie genres'] = meta_movie['Movie genres'].apply(ast.literal_eval)"
   ]
  },
  {
   "cell_type": "code",
   "execution_count": 62,
   "metadata": {},
   "outputs": [
    {
     "name": "stdout",
     "output_type": "stream",
     "text": [
      "--- Meta Movie ---\n",
      "Wikipedia movie ID            int64\n",
      "Movie name                   object\n",
      "Movie release date            Int64\n",
      "Movie box office revenue    float64\n",
      "Movie runtime               float64\n",
      "Movie genres                 object\n",
      "--- Meta Character ---\n",
      "Wikipedia movie ID       int64\n",
      "Movie release date       Int64\n",
      "Character name          object\n",
      "Actor date of birth      Int64\n",
      "Actor gender            object\n",
      "Actor height           float64\n",
      "Actor ethnicity         object\n",
      "Actor name              object\n",
      "Actor age              float64\n",
      "--- Plot ---\n",
      "Wikipedia movie ID     int64\n",
      "Plot                  object\n"
     ]
    }
   ],
   "source": [
    "print('--- Meta Movie ---')\n",
    "print(meta_movie.dtypes.to_string())\n",
    "print('--- Meta Character ---')\n",
    "print(meta_charac.dtypes.to_string())\n",
    "print('--- Plot ---')\n",
    "print(plot.dtypes.to_string())"
   ]
  },
  {
   "cell_type": "markdown",
   "metadata": {},
   "source": [
    "We will now have a look at the NaNs in the resulting datasets"
   ]
  },
  {
   "cell_type": "code",
   "execution_count": 63,
   "metadata": {},
   "outputs": [
    {
     "data": {
      "image/png": "[encoded data removed]",
      "text/plain": [
       "<Figure size 1300x600 with 3 Axes>"
      ]
     },
     "metadata": {},
     "output_type": "display_data"
    },
    {
     "name": "stdout",
     "output_type": "stream",
     "text": [
      "--- Dataset shapes ---\n",
      "Movies metadata: (81741, 6)\n",
      "Character metadata: (81741, 6)\n",
      "Plot summaries: (42303, 2)\n"
     ]
    }
   ],
   "source": [
    "# Calculating missing data\n",
    "missing_movie = meta_movie.isnull().sum() * 100 / len(meta_movie)\n",
    "missing_char = meta_charac.isnull().sum() * 100 / len(meta_charac)\n",
    "missing_plot = plot.isnull().sum() * 100 / len(plot)\n",
    "\n",
    "# Plotting\n",
    "fig, (ax1, ax2, ax3) = plt.subplots(1, 3, figsize=(13, 6), sharey=True)\n",
    "fig.suptitle('Missing data per column')\n",
    "\n",
    "# Set axis labels and titles\n",
    "ax1.set(ylabel= 'Missing Data [%]')\n",
    "ax1.bar(missing_movie.index, missing_movie.values)\n",
    "ax1.tick_params(axis='x', labelrotation = 90)\n",
    "ax1.set_title(\"Movie Metadata\")\n",
    "ax2.bar(missing_char.index, missing_char.values)\n",
    "ax2.tick_params(axis='x', labelrotation = 90)\n",
    "ax2.set_title(\"Character Metadata\")\n",
    "ax3.bar(missing_plot.index, missing_plot.values)\n",
    "ax3.tick_params(axis='x', labelrotation = 90)\n",
    "ax3.set_title(\"Plot Summaries\")\n",
    "plt.tight_layout()\n",
    "plt.show()\n",
    "\n",
    "print(\"--- Dataset shapes ---\")\n",
    "print(\"Movies metadata: {}\" .format(meta_movie.shape))\n",
    "print(\"Character metadata: {}\" .format(meta_movie.shape))\n",
    "print(\"Plot summaries: {}\" .format(plot.shape))"
   ]
  },
  {
   "cell_type": "markdown",
   "metadata": {},
   "source": [
    "*Observation:* From this initial analysis, it's evident that there is a significant amount of missing data.\n",
    "\n",
    "*Action:* To address this, we've decided to drop certain actor features, specifically `character name` ,  `actor height`, `actor ethnicity`, and `actor age`, recognizing the high incidence of missing values in these columns. We are keeping `Movie box office revenue` but acknowledge the presence of missing values, and we plan to incorporate it into our analysis only if we have the resources and time to enrich our database.\n"
   ]
  },
  {
   "cell_type": "code",
   "execution_count": 64,
   "metadata": {},
   "outputs": [],
   "source": [
    "charac = meta_charac.drop(columns=['Character name','Actor ethnicity', 'Actor height', 'Actor age'])"
   ]
  },
  {
   "cell_type": "markdown",
   "metadata": {},
   "source": [
    "# 1. Dataframe 1: movies\n",
    "## 1.1 Adding IMDb scores\n",
    "We will start by adding the IMDb scores to the movie dataset, we want every movie in our dataset to have a rating, so we will use an **inner merge** (default) on the **title** and **year**. \n",
    "\n",
    "But first will need to have a look at the IMDb dataset."
   ]
  },
  {
   "cell_type": "code",
   "execution_count": 65,
   "metadata": {},
   "outputs": [
    {
     "name": "stdout",
     "output_type": "stream",
     "text": [
      "     ----- Title data sample -----\n"
     ]
    },
    {
     "data": {
      "text/html": [
       "<div>\n",
       "<style scoped>\n",
       "    .dataframe tbody tr th:only-of-type {\n",
       "        vertical-align: middle;\n",
       "    }\n",
       "\n",
       "    .dataframe tbody tr th {\n",
       "        vertical-align: top;\n",
       "    }\n",
       "\n",
       "    .dataframe thead th {\n",
       "        text-align: right;\n",
       "    }\n",
       "</style>\n",
       "<table border=\"1\" class=\"dataframe\">\n",
       "  <thead>\n",
       "    <tr style=\"text-align: right;\">\n",
       "      <th></th>\n",
       "      <th>tconst</th>\n",
       "      <th>titleType</th>\n",
       "      <th>primaryTitle</th>\n",
       "      <th>originalTitle</th>\n",
       "      <th>isAdult</th>\n",
       "      <th>startYear</th>\n",
       "      <th>genres</th>\n",
       "    </tr>\n",
       "  </thead>\n",
       "  <tbody>\n",
       "    <tr>\n",
       "      <th>1994392</th>\n",
       "      <td>tt11848670</td>\n",
       "      <td>tvEpisode</td>\n",
       "      <td>Episode #1.531</td>\n",
       "      <td>Episode #1.531</td>\n",
       "      <td>0</td>\n",
       "      <td>\\N</td>\n",
       "      <td>Family</td>\n",
       "    </tr>\n",
       "    <tr>\n",
       "      <th>132032</th>\n",
       "      <td>tt0135909</td>\n",
       "      <td>movie</td>\n",
       "      <td>Dial 'P' for Pleasure</td>\n",
       "      <td>Dial 'P' for Pleasure</td>\n",
       "      <td>1</td>\n",
       "      <td>1978</td>\n",
       "      <td>Adult</td>\n",
       "    </tr>\n",
       "    <tr>\n",
       "      <th>3079480</th>\n",
       "      <td>tt1386516</td>\n",
       "      <td>tvEpisode</td>\n",
       "      <td>Lo más variado de lo mejor</td>\n",
       "      <td>Lo más variado de lo mejor</td>\n",
       "      <td>0</td>\n",
       "      <td>2009</td>\n",
       "      <td>Talk-Show</td>\n",
       "    </tr>\n",
       "    <tr>\n",
       "      <th>4073335</th>\n",
       "      <td>tt15694022</td>\n",
       "      <td>tvEpisode</td>\n",
       "      <td>Episode dated 13 August 2010</td>\n",
       "      <td>Episode dated 13 August 2010</td>\n",
       "      <td>0</td>\n",
       "      <td>2010</td>\n",
       "      <td>Talk-Show</td>\n",
       "    </tr>\n",
       "    <tr>\n",
       "      <th>2626125</th>\n",
       "      <td>tt13025268</td>\n",
       "      <td>tvEpisode</td>\n",
       "      <td>Seinaru sukyandaru gaka Manet: Ikko no rakujit...</td>\n",
       "      <td>Seinaru sukyandaru gaka Manet: Ikko no rakujit...</td>\n",
       "      <td>0</td>\n",
       "      <td>1974</td>\n",
       "      <td>Documentary</td>\n",
       "    </tr>\n",
       "  </tbody>\n",
       "</table>\n",
       "</div>"
      ],
      "text/plain": [
       "             tconst  titleType  \\\n",
       "1994392  tt11848670  tvEpisode   \n",
       "132032    tt0135909      movie   \n",
       "3079480   tt1386516  tvEpisode   \n",
       "4073335  tt15694022  tvEpisode   \n",
       "2626125  tt13025268  tvEpisode   \n",
       "\n",
       "                                              primaryTitle  \\\n",
       "1994392                                     Episode #1.531   \n",
       "132032                               Dial 'P' for Pleasure   \n",
       "3079480                         Lo más variado de lo mejor   \n",
       "4073335                       Episode dated 13 August 2010   \n",
       "2626125  Seinaru sukyandaru gaka Manet: Ikko no rakujit...   \n",
       "\n",
       "                                             originalTitle isAdult startYear  \\\n",
       "1994392                                     Episode #1.531       0        \\N   \n",
       "132032                               Dial 'P' for Pleasure       1      1978   \n",
       "3079480                         Lo más variado de lo mejor       0      2009   \n",
       "4073335                       Episode dated 13 August 2010       0      2010   \n",
       "2626125  Seinaru sukyandaru gaka Manet: Ikko no rakujit...       0      1974   \n",
       "\n",
       "              genres  \n",
       "1994392       Family  \n",
       "132032         Adult  \n",
       "3079480    Talk-Show  \n",
       "4073335    Talk-Show  \n",
       "2626125  Documentary  "
      ]
     },
     "metadata": {},
     "output_type": "display_data"
    },
    {
     "name": "stdout",
     "output_type": "stream",
     "text": [
      "     ----- Raiting data overview -----\n"
     ]
    },
    {
     "data": {
      "text/html": [
       "<div>\n",
       "<style scoped>\n",
       "    .dataframe tbody tr th:only-of-type {\n",
       "        vertical-align: middle;\n",
       "    }\n",
       "\n",
       "    .dataframe tbody tr th {\n",
       "        vertical-align: top;\n",
       "    }\n",
       "\n",
       "    .dataframe thead th {\n",
       "        text-align: right;\n",
       "    }\n",
       "</style>\n",
       "<table border=\"1\" class=\"dataframe\">\n",
       "  <thead>\n",
       "    <tr style=\"text-align: right;\">\n",
       "      <th></th>\n",
       "      <th>tconst</th>\n",
       "      <th>averageRating</th>\n",
       "      <th>numVotes</th>\n",
       "    </tr>\n",
       "  </thead>\n",
       "  <tbody>\n",
       "    <tr>\n",
       "      <th>689976</th>\n",
       "      <td>tt1460661</td>\n",
       "      <td>7.7</td>\n",
       "      <td>15</td>\n",
       "    </tr>\n",
       "    <tr>\n",
       "      <th>1114244</th>\n",
       "      <td>tt4692598</td>\n",
       "      <td>6.4</td>\n",
       "      <td>62</td>\n",
       "    </tr>\n",
       "    <tr>\n",
       "      <th>932081</th>\n",
       "      <td>tt24135908</td>\n",
       "      <td>7.7</td>\n",
       "      <td>202</td>\n",
       "    </tr>\n",
       "    <tr>\n",
       "      <th>500386</th>\n",
       "      <td>tt1085799</td>\n",
       "      <td>7.2</td>\n",
       "      <td>2461</td>\n",
       "    </tr>\n",
       "    <tr>\n",
       "      <th>583906</th>\n",
       "      <td>tt12439030</td>\n",
       "      <td>5.4</td>\n",
       "      <td>13</td>\n",
       "    </tr>\n",
       "  </tbody>\n",
       "</table>\n",
       "</div>"
      ],
      "text/plain": [
       "             tconst  averageRating  numVotes\n",
       "689976    tt1460661            7.7        15\n",
       "1114244   tt4692598            6.4        62\n",
       "932081   tt24135908            7.7       202\n",
       "500386    tt1085799            7.2      2461\n",
       "583906   tt12439030            5.4        13"
      ]
     },
     "metadata": {},
     "output_type": "display_data"
    }
   ],
   "source": [
    "# Display a sample of 5 rows from the 'imdb_title' DataFrame.\n",
    "print(\"     ----- Title data sample -----\")\n",
    "display(imdb_title.sample(5))\n",
    "\n",
    "# Display a sample of 5 rows from the 'imdb_ratings' DataFrame.\n",
    "print(\"     ----- Raiting data overview -----\")\n",
    "display(imdb_raitings.sample(5))"
   ]
  },
  {
   "cell_type": "code",
   "execution_count": 66,
   "metadata": {},
   "outputs": [
    {
     "name": "stdout",
     "output_type": "stream",
     "text": [
      "--- Movie dataset size ---\n",
      "(35612, 11)\n"
     ]
    }
   ],
   "source": [
    "# keep only movies\n",
    "imdb_movieTitle = imdb_title[imdb_title['titleType'] == 'movie'].copy() \n",
    "# remove Nan years\n",
    "imdb_movieTitle = imdb_movieTitle[imdb_movieTitle['startYear'] != '\\\\N'].copy() \n",
    "# turn year to int\n",
    "imdb_movieTitle['startYear'] = imdb_movieTitle['startYear'].astype(int) \n",
    "# rename actor ID for ease of use\n",
    "imdb_names.rename(columns={'nconst':'IMDb_actor_ID'}, inplace=True) \n",
    "\n",
    "# Merging the IMDb and CMU datasets\n",
    "movies = meta_movie\\\n",
    "            .merge(imdb_movieTitle[['originalTitle','startYear','tconst']], left_on= ['Movie name', 'Movie release date'], right_on= ['originalTitle','startYear'], how= 'inner')\\\n",
    "            .merge(imdb_raitings, how ='inner')\n",
    "movies.rename(columns={\"tconst\":\"IMDb_ID\"}, inplace= True) #rename IMDb ID for ease of use\n",
    "\n",
    "print(\"--- Movie dataset size ---\")\n",
    "print(movies.shape)"
   ]
  },
  {
   "cell_type": "markdown",
   "metadata": {},
   "source": [
    "The merge will only consider movies whose titles are an exact match which might not always be the case due to different capitalization of different coma placement. Thus the 35'000 rows that we get is a lower bound of the amount of rows that we could get if we used a more clever matching technique. For instance we could mitigate the problem of capitals matching by putting all strings to lower case."
   ]
  },
  {
   "cell_type": "markdown",
   "metadata": {},
   "source": [
    "## 1.2 Filtering\n",
    "We are proceeding to filter outliers in the dataset. The goal is to identify and exclude any data points that deviate significantly from the general pattern, ensuring that our analysis is not influenced by extreme values."
   ]
  },
  {
   "cell_type": "code",
   "execution_count": 67,
   "metadata": {},
   "outputs": [],
   "source": [
    "# Save an unfieltered version of movies\n",
    "movies_uf = movies.copy()\n",
    "\n",
    "# We are removing outliers in the film duration to standardize our data\n",
    "max_movie_runtime = 200 # [minutes]\n",
    "min_movie_runtime = 40  # [minutes]\n",
    "movies = movies.query('`Movie runtime` <= @max_movie_runtime and `Movie runtime` >= @min_movie_runtime').copy()\n",
    "\n",
    "# To ensure enough films are available per year, we are removing the older and newer years\n",
    "max_movie_year = 2012\n",
    "min_movie_year = 1930\n",
    "movies = movies.query('`Movie release date` <= @max_movie_year and `Movie release date` >= @min_movie_year').copy()\n"
   ]
  },
  {
   "cell_type": "code",
   "execution_count": 68,
   "metadata": {},
   "outputs": [
    {
     "data": {
      "text/html": [
       "<div>\n",
       "<style scoped>\n",
       "    .dataframe tbody tr th:only-of-type {\n",
       "        vertical-align: middle;\n",
       "    }\n",
       "\n",
       "    .dataframe tbody tr th {\n",
       "        vertical-align: top;\n",
       "    }\n",
       "\n",
       "    .dataframe thead th {\n",
       "        text-align: right;\n",
       "    }\n",
       "</style>\n",
       "<table border=\"1\" class=\"dataframe\">\n",
       "  <thead>\n",
       "    <tr style=\"text-align: right;\">\n",
       "      <th></th>\n",
       "      <th>Wikipedia movie ID</th>\n",
       "      <th>Movie name</th>\n",
       "      <th>Movie release date</th>\n",
       "      <th>Movie box office revenue</th>\n",
       "      <th>Movie runtime</th>\n",
       "      <th>Movie genres</th>\n",
       "      <th>originalTitle</th>\n",
       "      <th>startYear</th>\n",
       "      <th>IMDb_ID</th>\n",
       "      <th>averageRating</th>\n",
       "      <th>numVotes</th>\n",
       "    </tr>\n",
       "  </thead>\n",
       "  <tbody>\n",
       "    <tr>\n",
       "      <th>6552</th>\n",
       "      <td>277149</td>\n",
       "      <td>There's Something About Mary</td>\n",
       "      <td>1998</td>\n",
       "      <td>369884651.0</td>\n",
       "      <td>119.0</td>\n",
       "      <td>{'/m/06cvj': 'Romantic comedy', '/m/01jw2w': '...</td>\n",
       "      <td>There's Something About Mary</td>\n",
       "      <td>1998</td>\n",
       "      <td>tt0129387</td>\n",
       "      <td>7.1</td>\n",
       "      <td>323737</td>\n",
       "    </tr>\n",
       "    <tr>\n",
       "      <th>31313</th>\n",
       "      <td>32946023</td>\n",
       "      <td>The Phantom Plainsmen</td>\n",
       "      <td>1942</td>\n",
       "      <td>NaN</td>\n",
       "      <td>56.0</td>\n",
       "      <td>{'/m/03btsm8': 'Action/Adventure', '/m/0hfjk':...</td>\n",
       "      <td>The Phantom Plainsmen</td>\n",
       "      <td>1942</td>\n",
       "      <td>tt0035186</td>\n",
       "      <td>7.1</td>\n",
       "      <td>73</td>\n",
       "    </tr>\n",
       "    <tr>\n",
       "      <th>2142</th>\n",
       "      <td>5464326</td>\n",
       "      <td>Billy the Kid</td>\n",
       "      <td>1930</td>\n",
       "      <td>NaN</td>\n",
       "      <td>98.0</td>\n",
       "      <td>{'/m/0hfjk': 'Western', '/m/01g6gs': 'Black-an...</td>\n",
       "      <td>Billy the Kid</td>\n",
       "      <td>1930</td>\n",
       "      <td>tt0020693</td>\n",
       "      <td>6.0</td>\n",
       "      <td>452</td>\n",
       "    </tr>\n",
       "    <tr>\n",
       "      <th>13472</th>\n",
       "      <td>2876569</td>\n",
       "      <td>The Punisher</td>\n",
       "      <td>2004</td>\n",
       "      <td>54700105.0</td>\n",
       "      <td>140.0</td>\n",
       "      <td>{'/m/01jfsb': 'Thriller', '/m/0lsxr': 'Crime F...</td>\n",
       "      <td>The Punisher</td>\n",
       "      <td>2004</td>\n",
       "      <td>tt0330793</td>\n",
       "      <td>6.4</td>\n",
       "      <td>168143</td>\n",
       "    </tr>\n",
       "    <tr>\n",
       "      <th>20562</th>\n",
       "      <td>33346429</td>\n",
       "      <td>The Big Hangover</td>\n",
       "      <td>1950</td>\n",
       "      <td>NaN</td>\n",
       "      <td>82.0</td>\n",
       "      <td>{'/m/06cvj': 'Romantic comedy', '/m/02l7c8': '...</td>\n",
       "      <td>The Big Hangover</td>\n",
       "      <td>1950</td>\n",
       "      <td>tt0042247</td>\n",
       "      <td>5.9</td>\n",
       "      <td>564</td>\n",
       "    </tr>\n",
       "  </tbody>\n",
       "</table>\n",
       "</div>"
      ],
      "text/plain": [
       "       Wikipedia movie ID                    Movie name  Movie release date  \\\n",
       "6552               277149  There's Something About Mary                1998   \n",
       "31313            32946023         The Phantom Plainsmen                1942   \n",
       "2142              5464326                 Billy the Kid                1930   \n",
       "13472             2876569                  The Punisher                2004   \n",
       "20562            33346429              The Big Hangover                1950   \n",
       "\n",
       "       Movie box office revenue  Movie runtime  \\\n",
       "6552                369884651.0          119.0   \n",
       "31313                       NaN           56.0   \n",
       "2142                        NaN           98.0   \n",
       "13472                54700105.0          140.0   \n",
       "20562                       NaN           82.0   \n",
       "\n",
       "                                            Movie genres  \\\n",
       "6552   {'/m/06cvj': 'Romantic comedy', '/m/01jw2w': '...   \n",
       "31313  {'/m/03btsm8': 'Action/Adventure', '/m/0hfjk':...   \n",
       "2142   {'/m/0hfjk': 'Western', '/m/01g6gs': 'Black-an...   \n",
       "13472  {'/m/01jfsb': 'Thriller', '/m/0lsxr': 'Crime F...   \n",
       "20562  {'/m/06cvj': 'Romantic comedy', '/m/02l7c8': '...   \n",
       "\n",
       "                      originalTitle  startYear    IMDb_ID  averageRating  \\\n",
       "6552   There's Something About Mary       1998  tt0129387            7.1   \n",
       "31313         The Phantom Plainsmen       1942  tt0035186            7.1   \n",
       "2142                  Billy the Kid       1930  tt0020693            6.0   \n",
       "13472                  The Punisher       2004  tt0330793            6.4   \n",
       "20562              The Big Hangover       1950  tt0042247            5.9   \n",
       "\n",
       "       numVotes  \n",
       "6552     323737  \n",
       "31313        73  \n",
       "2142        452  \n",
       "13472    168143  \n",
       "20562       564  "
      ]
     },
     "execution_count": 68,
     "metadata": {},
     "output_type": "execute_result"
    }
   ],
   "source": [
    "# Display a random sample of 5 rows from the 'movies' DataFrame.\n",
    "movies.sample(5)"
   ]
  },
  {
   "cell_type": "markdown",
   "metadata": {},
   "source": [
    "# 2. Dataframe 2 : Actors\n",
    "## 2.1 Extracting main characters from IMDb \n"
   ]
  },
  {
   "cell_type": "code",
   "execution_count": 69,
   "metadata": {},
   "outputs": [],
   "source": [
    "# Input: \n",
    "#   - movies: DataFrame containing movie dataset \n",
    "#   - imdb_principals: IMDb dataset with principal actors\n",
    "#   - top_n: Number of principal actors to extract (default 3) [int]\n",
    "# Output: \n",
    "#   - movie_actors: DataFrame with all actors per film. Columns: IMDb_ID, actor, ordering (corresponds to the significance of actors in films)\n",
    "def get_top_actors(movies, imdb_principals, top_n=1):\n",
    "    # Filter the 'imdb_principals' DataFrame to include only rows where the category is 'actor' or 'actress'.\n",
    "    imdb_principal_actors = imdb_principals.query('category == \"actor\" | category == \"actress\"')\n",
    "\n",
    "    # Further filter the above DataFrame to include only those actors/actresses that appear in the 'movies' DataFrame (matched by 'IMDb_ID')\n",
    "    # and are within the top 'top_n' ordering. 'ordering' likely refers to the importance or lead level of the actor in the movie.\n",
    "    imdb_principal_actors_valid = imdb_principal_actors[(imdb_principal_actors[\"IMDb_ID\"].isin(movies[\"IMDb_ID\"].values.tolist())) & \n",
    "                                                        (imdb_principal_actors[\"ordering\"] <= top_n)]\n",
    "\n",
    "    # Initialize an empty list to store movie-actor pairings.\n",
    "    movie_actors = []\n",
    "\n",
    "    bar = progressbar.ProgressBar(maxval=len(movies[\"IMDb_ID\"])).start()\n",
    "\n",
    "    # Iterate over each movie ID in the 'movies' DataFrame.\n",
    "    for idx, id in enumerate(movies[\"IMDb_ID\"]):\n",
    "         # For each movie, find corresponding actors from 'imdb_principal_actors_valid' and select 'ordering' and 'IMDb_actor_ID'.\n",
    "        tmp = imdb_principal_actors_valid.loc[imdb_principal_actors_valid[\"IMDb_ID\"] == id][[\"ordering\", \"IMDb_actor_ID\"]]\n",
    "\n",
    "        # Append each actor's information along with the movie ID to the 'movie_actors' list.\n",
    "        for _, row in tmp.iterrows():\n",
    "            movie_actors.append([id, row[\"IMDb_actor_ID\"], row[\"ordering\"]])\n",
    "        bar.update(idx)\n",
    "\n",
    "    # Convert the 'movie_actors' list into a DataFrame for easier handling and readability.\n",
    "    movie_actors = pd.DataFrame(movie_actors, columns=['IMDb_ID', 'IMDb_actor_ID', 'ordering'])\n",
    "\n",
    "    # Return the resulting DataFrame.\n",
    "    return movie_actors"
   ]
  },
  {
   "cell_type": "code",
   "execution_count": 70,
   "metadata": {},
   "outputs": [
    {
     "name": "stderr",
     "output_type": "stream",
     "text": [
      " 99% |####################################################################### |\r"
     ]
    },
    {
     "data": {
      "text/html": [
       "<div>\n",
       "<style scoped>\n",
       "    .dataframe tbody tr th:only-of-type {\n",
       "        vertical-align: middle;\n",
       "    }\n",
       "\n",
       "    .dataframe tbody tr th {\n",
       "        vertical-align: top;\n",
       "    }\n",
       "\n",
       "    .dataframe thead th {\n",
       "        text-align: right;\n",
       "    }\n",
       "</style>\n",
       "<table border=\"1\" class=\"dataframe\">\n",
       "  <thead>\n",
       "    <tr style=\"text-align: right;\">\n",
       "      <th></th>\n",
       "      <th>IMDb_ID</th>\n",
       "      <th>IMDb_actor_ID</th>\n",
       "      <th>ordering</th>\n",
       "    </tr>\n",
       "  </thead>\n",
       "  <tbody>\n",
       "    <tr>\n",
       "      <th>7925</th>\n",
       "      <td>tt0067076</td>\n",
       "      <td>nm0511350</td>\n",
       "      <td>1</td>\n",
       "    </tr>\n",
       "    <tr>\n",
       "      <th>986</th>\n",
       "      <td>tt0123125</td>\n",
       "      <td>nm0026088</td>\n",
       "      <td>1</td>\n",
       "    </tr>\n",
       "    <tr>\n",
       "      <th>1061</th>\n",
       "      <td>tt0867591</td>\n",
       "      <td>nm1009277</td>\n",
       "      <td>1</td>\n",
       "    </tr>\n",
       "    <tr>\n",
       "      <th>24681</th>\n",
       "      <td>tt0035441</td>\n",
       "      <td>nm0398141</td>\n",
       "      <td>1</td>\n",
       "    </tr>\n",
       "    <tr>\n",
       "      <th>672</th>\n",
       "      <td>tt0042589</td>\n",
       "      <td>nm0369792</td>\n",
       "      <td>1</td>\n",
       "    </tr>\n",
       "  </tbody>\n",
       "</table>\n",
       "</div>"
      ],
      "text/plain": [
       "         IMDb_ID IMDb_actor_ID  ordering\n",
       "7925   tt0067076     nm0511350         1\n",
       "986    tt0123125     nm0026088         1\n",
       "1061   tt0867591     nm1009277         1\n",
       "24681  tt0035441     nm0398141         1\n",
       "672    tt0042589     nm0369792         1"
      ]
     },
     "execution_count": 70,
     "metadata": {},
     "output_type": "execute_result"
    }
   ],
   "source": [
    "# takes ~5 mins to run\n",
    "imdb_principals.rename(columns={'nconst':'IMDb_actor_ID'}, inplace=True)\n",
    "imdb_principals.rename(columns={'tconst':'IMDb_ID'}, inplace=True)\n",
    "\n",
    "movie_actors = get_top_actors(movies, imdb_principals)\n",
    "movie_actors.sample(5)"
   ]
  },
  {
   "cell_type": "markdown",
   "metadata": {},
   "source": [
    "## 2.2 Creating a one-to-many relationship\n",
    "We want a one-to-many relationship between movies and movie_actors, i.e for every movie_actor, there is **exactly** one corresponding movie (no NaNs)."
   ]
  },
  {
   "cell_type": "code",
   "execution_count": 71,
   "metadata": {},
   "outputs": [],
   "source": [
    "# creation of the DataFrame only with valid actors\n",
    "movies = movies[movies[\"IMDb_ID\"].isin(movie_actors[\"IMDb_ID\"].unique().tolist())]"
   ]
  },
  {
   "cell_type": "markdown",
   "metadata": {},
   "source": [
    "## 2.3 Adding information to the dataset\n",
    "We will now added additional data to the actors dataset"
   ]
  },
  {
   "cell_type": "code",
   "execution_count": 72,
   "metadata": {},
   "outputs": [
    {
     "data": {
      "text/html": [
       "<div>\n",
       "<style scoped>\n",
       "    .dataframe tbody tr th:only-of-type {\n",
       "        vertical-align: middle;\n",
       "    }\n",
       "\n",
       "    .dataframe tbody tr th {\n",
       "        vertical-align: top;\n",
       "    }\n",
       "\n",
       "    .dataframe thead th {\n",
       "        text-align: right;\n",
       "    }\n",
       "</style>\n",
       "<table border=\"1\" class=\"dataframe\">\n",
       "  <thead>\n",
       "    <tr style=\"text-align: right;\">\n",
       "      <th></th>\n",
       "      <th>IMDb_ID</th>\n",
       "      <th>IMDb_actor_ID</th>\n",
       "      <th>ordering</th>\n",
       "      <th>Wikipedia movie ID</th>\n",
       "      <th>Movie name</th>\n",
       "      <th>Movie release date</th>\n",
       "      <th>primaryName</th>\n",
       "      <th>birthYear</th>\n",
       "    </tr>\n",
       "  </thead>\n",
       "  <tbody>\n",
       "    <tr>\n",
       "      <th>15656</th>\n",
       "      <td>tt0089139</td>\n",
       "      <td>nm0641939</td>\n",
       "      <td>1</td>\n",
       "      <td>1405743</td>\n",
       "      <td>Fever Pitch</td>\n",
       "      <td>1985</td>\n",
       "      <td>Ryan O'Neal</td>\n",
       "      <td>1941</td>\n",
       "    </tr>\n",
       "    <tr>\n",
       "      <th>19073</th>\n",
       "      <td>tt0120006</td>\n",
       "      <td>nm0001767</td>\n",
       "      <td>1</td>\n",
       "      <td>31706054</td>\n",
       "      <td>Remember Me?</td>\n",
       "      <td>1997</td>\n",
       "      <td>Imelda Staunton</td>\n",
       "      <td>1956</td>\n",
       "    </tr>\n",
       "    <tr>\n",
       "      <th>7382</th>\n",
       "      <td>tt0145487</td>\n",
       "      <td>nm0001497</td>\n",
       "      <td>1</td>\n",
       "      <td>146947</td>\n",
       "      <td>Spider-Man</td>\n",
       "      <td>2002</td>\n",
       "      <td>Tobey Maguire</td>\n",
       "      <td>1975</td>\n",
       "    </tr>\n",
       "    <tr>\n",
       "      <th>13148</th>\n",
       "      <td>tt0037957</td>\n",
       "      <td>nm0524031</td>\n",
       "      <td>1</td>\n",
       "      <td>31859076</td>\n",
       "      <td>Old Mother Riley at Home</td>\n",
       "      <td>1945</td>\n",
       "      <td>Arthur Lucan</td>\n",
       "      <td>1885</td>\n",
       "    </tr>\n",
       "    <tr>\n",
       "      <th>12609</th>\n",
       "      <td>tt0028499</td>\n",
       "      <td>nm0290215</td>\n",
       "      <td>1</td>\n",
       "      <td>27253923</td>\n",
       "      <td>The White Angel</td>\n",
       "      <td>1936</td>\n",
       "      <td>Kay Francis</td>\n",
       "      <td>1905</td>\n",
       "    </tr>\n",
       "  </tbody>\n",
       "</table>\n",
       "</div>"
      ],
      "text/plain": [
       "         IMDb_ID IMDb_actor_ID  ordering  Wikipedia movie ID  \\\n",
       "15656  tt0089139     nm0641939         1             1405743   \n",
       "19073  tt0120006     nm0001767         1            31706054   \n",
       "7382   tt0145487     nm0001497         1              146947   \n",
       "13148  tt0037957     nm0524031         1            31859076   \n",
       "12609  tt0028499     nm0290215         1            27253923   \n",
       "\n",
       "                     Movie name  Movie release date      primaryName birthYear  \n",
       "15656               Fever Pitch                1985      Ryan O'Neal      1941  \n",
       "19073              Remember Me?                1997  Imelda Staunton      1956  \n",
       "7382                 Spider-Man                2002    Tobey Maguire      1975  \n",
       "13148  Old Mother Riley at Home                1945     Arthur Lucan      1885  \n",
       "12609           The White Angel                1936      Kay Francis      1905  "
      ]
     },
     "execution_count": 72,
     "metadata": {},
     "output_type": "execute_result"
    }
   ],
   "source": [
    "# takes ~10 seconds\n",
    "# Merge 'movie_actors' with selected columns from 'movies' and 'imdb_names' DataFrames.\n",
    "actors = movie_actors.merge(movies[['Wikipedia movie ID', 'Movie name', 'Movie release date', 'IMDb_ID']], on='IMDb_ID')\n",
    "actors = actors.merge(imdb_names[['primaryName', 'IMDb_actor_ID', 'birthYear']], left_on='IMDb_actor_ID', right_on='IMDb_actor_ID')\n",
    "\n",
    "# Display a sample of 5 rows from the resulting 'actors' DataFrame.\n",
    "actors.sample(5)"
   ]
  },
  {
   "cell_type": "markdown",
   "metadata": {},
   "source": [
    "## 2.4 Adding awards feature\n",
    "\n",
    "As a specific actor feature, we want to use the number of awards won. To do this we use a kaggle dataset ([link](https://www.kaggle.com/datasets/unanimad/the-oscar-award/code)).\n"
   ]
  },
  {
   "cell_type": "code",
   "execution_count": 73,
   "metadata": {},
   "outputs": [
    {
     "name": "stdout",
     "output_type": "stream",
     "text": [
      "kaggle awards shape: (10765, 6)\n"
     ]
    },
    {
     "data": {
      "text/html": [
       "<div>\n",
       "<style scoped>\n",
       "    .dataframe tbody tr th:only-of-type {\n",
       "        vertical-align: middle;\n",
       "    }\n",
       "\n",
       "    .dataframe tbody tr th {\n",
       "        vertical-align: top;\n",
       "    }\n",
       "\n",
       "    .dataframe thead th {\n",
       "        text-align: right;\n",
       "    }\n",
       "</style>\n",
       "<table border=\"1\" class=\"dataframe\">\n",
       "  <thead>\n",
       "    <tr style=\"text-align: right;\">\n",
       "      <th></th>\n",
       "      <th>year_film</th>\n",
       "      <th>year_ceremony</th>\n",
       "      <th>ceremony</th>\n",
       "      <th>name</th>\n",
       "      <th>film</th>\n",
       "      <th>winner</th>\n",
       "    </tr>\n",
       "  </thead>\n",
       "  <tbody>\n",
       "    <tr>\n",
       "      <th>7369</th>\n",
       "      <td>1994</td>\n",
       "      <td>1995</td>\n",
       "      <td>67</td>\n",
       "      <td>Freida Lee Mock, Terry Sanders</td>\n",
       "      <td>Maya Lin: A Strong Clear Vision</td>\n",
       "      <td>True</td>\n",
       "    </tr>\n",
       "    <tr>\n",
       "      <th>6954</th>\n",
       "      <td>1990</td>\n",
       "      <td>1991</td>\n",
       "      <td>63</td>\n",
       "      <td>Maurice Jarre</td>\n",
       "      <td>Ghost</td>\n",
       "      <td>False</td>\n",
       "    </tr>\n",
       "    <tr>\n",
       "      <th>9073</th>\n",
       "      <td>2009</td>\n",
       "      <td>2010</td>\n",
       "      <td>82</td>\n",
       "      <td>Julian Clarke</td>\n",
       "      <td>District 9</td>\n",
       "      <td>False</td>\n",
       "    </tr>\n",
       "    <tr>\n",
       "      <th>990</th>\n",
       "      <td>1940</td>\n",
       "      <td>1941</td>\n",
       "      <td>13</td>\n",
       "      <td>Victor Young</td>\n",
       "      <td>Arizona</td>\n",
       "      <td>False</td>\n",
       "    </tr>\n",
       "    <tr>\n",
       "      <th>1474</th>\n",
       "      <td>1943</td>\n",
       "      <td>1944</td>\n",
       "      <td>16</td>\n",
       "      <td>Anne Revere</td>\n",
       "      <td>The Song of Bernadette</td>\n",
       "      <td>False</td>\n",
       "    </tr>\n",
       "  </tbody>\n",
       "</table>\n",
       "</div>"
      ],
      "text/plain": [
       "      year_film  year_ceremony  ceremony                            name  \\\n",
       "7369       1994           1995        67  Freida Lee Mock, Terry Sanders   \n",
       "6954       1990           1991        63                   Maurice Jarre   \n",
       "9073       2009           2010        82                   Julian Clarke   \n",
       "990        1940           1941        13                    Victor Young   \n",
       "1474       1943           1944        16                     Anne Revere   \n",
       "\n",
       "                                 film  winner  \n",
       "7369  Maya Lin: A Strong Clear Vision    True  \n",
       "6954                            Ghost   False  \n",
       "9073                       District 9   False  \n",
       "990                           Arizona   False  \n",
       "1474           The Song of Bernadette   False  "
      ]
     },
     "execution_count": 73,
     "metadata": {},
     "output_type": "execute_result"
    }
   ],
   "source": [
    "print(\"kaggle awards shape: \" + str(kaggle_awards.shape))\n",
    "kaggle_awards.sample(5)"
   ]
  },
  {
   "cell_type": "markdown",
   "metadata": {},
   "source": [
    "We should filter to keep only movies that are in our dataset"
   ]
  },
  {
   "cell_type": "code",
   "execution_count": 74,
   "metadata": {},
   "outputs": [
    {
     "data": {
      "text/html": [
       "<div>\n",
       "<style scoped>\n",
       "    .dataframe tbody tr th:only-of-type {\n",
       "        vertical-align: middle;\n",
       "    }\n",
       "\n",
       "    .dataframe tbody tr th {\n",
       "        vertical-align: top;\n",
       "    }\n",
       "\n",
       "    .dataframe thead th {\n",
       "        text-align: right;\n",
       "    }\n",
       "</style>\n",
       "<table border=\"1\" class=\"dataframe\">\n",
       "  <thead>\n",
       "    <tr style=\"text-align: right;\">\n",
       "      <th></th>\n",
       "      <th>year_film</th>\n",
       "      <th>year_ceremony</th>\n",
       "      <th>ceremony</th>\n",
       "      <th>name</th>\n",
       "      <th>film</th>\n",
       "      <th>winner</th>\n",
       "    </tr>\n",
       "  </thead>\n",
       "  <tbody>\n",
       "    <tr>\n",
       "      <th>5936</th>\n",
       "      <td>1981</td>\n",
       "      <td>1982</td>\n",
       "      <td>54</td>\n",
       "      <td>Dudley Moore</td>\n",
       "      <td>Arthur</td>\n",
       "      <td>False</td>\n",
       "    </tr>\n",
       "    <tr>\n",
       "      <th>2298</th>\n",
       "      <td>1949</td>\n",
       "      <td>1950</td>\n",
       "      <td>22</td>\n",
       "      <td>Deborah Kerr</td>\n",
       "      <td>Edward, My Son</td>\n",
       "      <td>False</td>\n",
       "    </tr>\n",
       "    <tr>\n",
       "      <th>5633</th>\n",
       "      <td>1978</td>\n",
       "      <td>1979</td>\n",
       "      <td>51</td>\n",
       "      <td>Dyan Cannon</td>\n",
       "      <td>Heaven Can Wait</td>\n",
       "      <td>False</td>\n",
       "    </tr>\n",
       "    <tr>\n",
       "      <th>8015</th>\n",
       "      <td>2000</td>\n",
       "      <td>2001</td>\n",
       "      <td>73</td>\n",
       "      <td>Albert Finney</td>\n",
       "      <td>Erin Brockovich</td>\n",
       "      <td>False</td>\n",
       "    </tr>\n",
       "    <tr>\n",
       "      <th>8804</th>\n",
       "      <td>2007</td>\n",
       "      <td>2008</td>\n",
       "      <td>80</td>\n",
       "      <td>Laura Linney</td>\n",
       "      <td>The Savages</td>\n",
       "      <td>False</td>\n",
       "    </tr>\n",
       "  </tbody>\n",
       "</table>\n",
       "</div>"
      ],
      "text/plain": [
       "      year_film  year_ceremony  ceremony           name             film  \\\n",
       "5936       1981           1982        54   Dudley Moore           Arthur   \n",
       "2298       1949           1950        22   Deborah Kerr   Edward, My Son   \n",
       "5633       1978           1979        51    Dyan Cannon  Heaven Can Wait   \n",
       "8015       2000           2001        73  Albert Finney  Erin Brockovich   \n",
       "8804       2007           2008        80   Laura Linney      The Savages   \n",
       "\n",
       "      winner  \n",
       "5936   False  \n",
       "2298   False  \n",
       "5633   False  \n",
       "8015   False  \n",
       "8804   False  "
      ]
     },
     "execution_count": 74,
     "metadata": {},
     "output_type": "execute_result"
    }
   ],
   "source": [
    "# Keep only actors that are in our actors DataFrame\n",
    "kaggle_awards = kaggle_awards[kaggle_awards['name'].isin(actors['primaryName'].unique())]\n",
    "# Keep only movies that are in our movies DataFrame\n",
    "kaggle_awards = kaggle_awards[kaggle_awards['film'].isin(movies['Movie name'].unique())]\n",
    "kaggle_awards.sample(5)"
   ]
  },
  {
   "cell_type": "markdown",
   "metadata": {},
   "source": [
    "Let's have a quick scan of the amount of NaNs in this new dataset"
   ]
  },
  {
   "cell_type": "code",
   "execution_count": 75,
   "metadata": {},
   "outputs": [
    {
     "data": {
      "text/plain": [
       "year_film        0.0\n",
       "year_ceremony    0.0\n",
       "ceremony         0.0\n",
       "name             0.0\n",
       "film             0.0\n",
       "winner           0.0\n",
       "dtype: float64"
      ]
     },
     "metadata": {},
     "output_type": "display_data"
    }
   ],
   "source": [
    "kaggle_nans = kaggle_awards.isnull().sum() * 100 / len(kaggle_awards)\n",
    "display(kaggle_nans)"
   ]
  },
  {
   "cell_type": "markdown",
   "metadata": {},
   "source": [
    "As we can see, the dataset is NaNs free.\n",
    "\n",
    "Let's now define a function to get the number of awards won by a given actor up until a given year. For this feature we will only consider the number of awards that the actor won before the movie was released. Using this function we will be able to add a new column in our previous dataframe. \n",
    "\n",
    "The function allow counting both the amount of awards won but also the number of nominations"
   ]
  },
  {
   "cell_type": "code",
   "execution_count": 76,
   "metadata": {},
   "outputs": [],
   "source": [
    "# Input: \n",
    "#   - actor_name (str)\n",
    "#   - year (int)\n",
    "#   - won (bool) -> Was the nomination won \n",
    "# Output:\n",
    "#   - Number of awards/nominations gained by the actor\n",
    "def count_awards(actor_name, year, won):\n",
    "    # We check with the ceremony year because the actor hasn't recieved an award until the ceremony has happened\n",
    "    if won:\n",
    "        filtered = kaggle_awards.query(\"year_ceremony <= @year & name == @actor_name & winner==True\")\n",
    "    else:\n",
    "        filtered = kaggle_awards.query(\"year_ceremony <= @year & name == @actor_name\")\n",
    "    \n",
    "    return len(filtered)"
   ]
  },
  {
   "cell_type": "code",
   "execution_count": 77,
   "metadata": {},
   "outputs": [],
   "source": [
    "# Takes ~5 mins\n",
    "# Add 'awards' and 'nominations' columns to the 'actors' DataFrame, calculated using the 'count_awards' function.\n",
    "actors['awards'] = [count_awards(row['primaryName'], row['Movie release date'], True) for (index, row) in actors.iterrows()]\n",
    "actors['nominations'] = [count_awards(row['primaryName'], row['Movie release date'], False) for (index, row) in actors.iterrows()]"
   ]
  },
  {
   "cell_type": "markdown",
   "metadata": {},
   "source": [
    "Let's take a look at Meryl Streep's films as an example to showcase what this function has done"
   ]
  },
  {
   "cell_type": "code",
   "execution_count": 78,
   "metadata": {},
   "outputs": [
    {
     "data": {
      "text/html": [
       "<div>\n",
       "<style scoped>\n",
       "    .dataframe tbody tr th:only-of-type {\n",
       "        vertical-align: middle;\n",
       "    }\n",
       "\n",
       "    .dataframe tbody tr th {\n",
       "        vertical-align: top;\n",
       "    }\n",
       "\n",
       "    .dataframe thead th {\n",
       "        text-align: right;\n",
       "    }\n",
       "</style>\n",
       "<table border=\"1\" class=\"dataframe\">\n",
       "  <thead>\n",
       "    <tr style=\"text-align: right;\">\n",
       "      <th></th>\n",
       "      <th>IMDb_ID</th>\n",
       "      <th>IMDb_actor_ID</th>\n",
       "      <th>ordering</th>\n",
       "      <th>Wikipedia movie ID</th>\n",
       "      <th>Movie name</th>\n",
       "      <th>Movie release date</th>\n",
       "      <th>primaryName</th>\n",
       "      <th>birthYear</th>\n",
       "      <th>awards</th>\n",
       "      <th>nominations</th>\n",
       "    </tr>\n",
       "  </thead>\n",
       "  <tbody>\n",
       "    <tr>\n",
       "      <th>1890</th>\n",
       "      <td>tt0082416</td>\n",
       "      <td>nm0000658</td>\n",
       "      <td>1</td>\n",
       "      <td>3602324</td>\n",
       "      <td>The French Lieutenant's Woman</td>\n",
       "      <td>1981</td>\n",
       "      <td>Meryl Streep</td>\n",
       "      <td>1949</td>\n",
       "      <td>1</td>\n",
       "      <td>2</td>\n",
       "    </tr>\n",
       "    <tr>\n",
       "      <th>1903</th>\n",
       "      <td>tt0084707</td>\n",
       "      <td>nm0000658</td>\n",
       "      <td>1</td>\n",
       "      <td>4016437</td>\n",
       "      <td>Sophie's Choice</td>\n",
       "      <td>1982</td>\n",
       "      <td>Meryl Streep</td>\n",
       "      <td>1949</td>\n",
       "      <td>1</td>\n",
       "      <td>3</td>\n",
       "    </tr>\n",
       "    <tr>\n",
       "      <th>1897</th>\n",
       "      <td>tt0086312</td>\n",
       "      <td>nm0000658</td>\n",
       "      <td>1</td>\n",
       "      <td>242548</td>\n",
       "      <td>Silkwood</td>\n",
       "      <td>1983</td>\n",
       "      <td>Meryl Streep</td>\n",
       "      <td>1949</td>\n",
       "      <td>2</td>\n",
       "      <td>4</td>\n",
       "    </tr>\n",
       "    <tr>\n",
       "      <th>1909</th>\n",
       "      <td>tt0089816</td>\n",
       "      <td>nm0000658</td>\n",
       "      <td>1</td>\n",
       "      <td>3066519</td>\n",
       "      <td>Plenty</td>\n",
       "      <td>1985</td>\n",
       "      <td>Meryl Streep</td>\n",
       "      <td>1949</td>\n",
       "      <td>2</td>\n",
       "      <td>5</td>\n",
       "    </tr>\n",
       "    <tr>\n",
       "      <th>1907</th>\n",
       "      <td>tt0089755</td>\n",
       "      <td>nm0000658</td>\n",
       "      <td>1</td>\n",
       "      <td>89793</td>\n",
       "      <td>Out of Africa</td>\n",
       "      <td>1985</td>\n",
       "      <td>Meryl Streep</td>\n",
       "      <td>1949</td>\n",
       "      <td>2</td>\n",
       "      <td>5</td>\n",
       "    </tr>\n",
       "  </tbody>\n",
       "</table>\n",
       "</div>"
      ],
      "text/plain": [
       "        IMDb_ID IMDb_actor_ID  ordering  Wikipedia movie ID  \\\n",
       "1890  tt0082416     nm0000658         1             3602324   \n",
       "1903  tt0084707     nm0000658         1             4016437   \n",
       "1897  tt0086312     nm0000658         1              242548   \n",
       "1909  tt0089816     nm0000658         1             3066519   \n",
       "1907  tt0089755     nm0000658         1               89793   \n",
       "\n",
       "                         Movie name  Movie release date   primaryName  \\\n",
       "1890  The French Lieutenant's Woman                1981  Meryl Streep   \n",
       "1903                Sophie's Choice                1982  Meryl Streep   \n",
       "1897                       Silkwood                1983  Meryl Streep   \n",
       "1909                         Plenty                1985  Meryl Streep   \n",
       "1907                  Out of Africa                1985  Meryl Streep   \n",
       "\n",
       "     birthYear  awards  nominations  \n",
       "1890      1949       1            2  \n",
       "1903      1949       1            3  \n",
       "1897      1949       2            4  \n",
       "1909      1949       2            5  \n",
       "1907      1949       2            5  "
      ]
     },
     "execution_count": 78,
     "metadata": {},
     "output_type": "execute_result"
    }
   ],
   "source": [
    "actors.query(\"primaryName == 'Meryl Streep'\").sort_values('Movie release date').head(5)"
   ]
  },
  {
   "cell_type": "markdown",
   "metadata": {},
   "source": [
    "## 2.5 Adding the number of movies per actor (total and in said genre)"
   ]
  },
  {
   "cell_type": "code",
   "execution_count": 79,
   "metadata": {},
   "outputs": [],
   "source": [
    "# Input: \n",
    "#   - IMDb_actor_ID (str)\n",
    "#   - year (int)\n",
    "# Output:\n",
    "#   - Sum of movies per actor played until the given year\n",
    "def count_nb_movies(actor_ID, year):\n",
    "    filtered = actors.query(\"`Movie release date` <= @year & IMDb_actor_ID == @actor_ID\")\n",
    "    \n",
    "    return len(filtered)\n",
    "\n",
    "actors['movie_count'] = [count_nb_movies(row['IMDb_actor_ID'], row['Movie release date']) for (index, row) in actors.iterrows()]"
   ]
  },
  {
   "cell_type": "code",
   "execution_count": 80,
   "metadata": {},
   "outputs": [],
   "source": [
    "# Selected genre\n",
    "genre = \"Drama\"\n",
    "\n",
    "# Joining the two datasets actors and movies\n",
    "tmp = actors.join(movies, how='left', lsuffix='_actors', rsuffix='_movies')\n",
    "\n",
    "# Input: \n",
    "#   - Movie genres (dict)\n",
    "# Output:\n",
    "#   - Boolean indicating if the movie is of the given genre\n",
    "def dict2genre(movie_genres):\n",
    "    if pd.isna(movie_genres):\n",
    "        return 0\n",
    "    elif genre in list(movie_genres.values()):\n",
    "        return 1\n",
    "    else:\n",
    "        return 0\n",
    "\n",
    "# Input: \n",
    "#   - actor_name (str)\n",
    "#   - year (int)\n",
    "# Output:\n",
    "#   - Sum of movies per actor played until the given year in the given genre\n",
    "def count_nb_movies_genre(actor_ID, year):\n",
    "    filtered = tmp[(tmp[\"Movie release date_actors\"] <= year) & tmp[genre] & (tmp[\"IMDb_actor_ID\"] == actor_ID)]\n",
    "    return len(filtered)\n",
    "    \n",
    "tmp[genre] = [dict2genre(row['Movie genres']) for (index, row) in tmp.iterrows()]\n",
    "actors['movie_count_genre'] = [count_nb_movies_genre(row['IMDb_actor_ID'], row['Movie release date_actors']) for (index, row) in tmp.iterrows()]"
   ]
  },
  {
   "cell_type": "markdown",
   "metadata": {},
   "source": [
    "## 2.6 Number of different genres that the actor has played in (diversity)"
   ]
  },
  {
   "cell_type": "code",
   "execution_count": 81,
   "metadata": {},
   "outputs": [
    {
     "ename": "KeyError",
     "evalue": "'False: boolean label can not be used without a boolean index'",
     "output_type": "error",
     "traceback": [
      "\u001b[1;31m---------------------------------------------------------------------------\u001b[0m",
      "\u001b[1;31mKeyError\u001b[0m                                  Traceback (most recent call last)",
      "\u001b[1;32mc:\\Users\\kelan\\Documents\\_Uni\\ADA\\ada-2023-project-dromadaire\\P3.ipynb Cell 44\u001b[0m line \u001b[0;36m5\n\u001b[0;32m      <a href='vscode-notebook-cell:/c%3A/Users/kelan/Documents/_Uni/ADA/ada-2023-project-dromadaire/P3.ipynb#X61sZmlsZQ%3D%3D?line=2'>3</a>\u001b[0m \u001b[39m# We turn the movie genres dict into a list\u001b[39;00m\n\u001b[0;32m      <a href='vscode-notebook-cell:/c%3A/Users/kelan/Documents/_Uni/ADA/ada-2023-project-dromadaire/P3.ipynb#X61sZmlsZQ%3D%3D?line=3'>4</a>\u001b[0m tmp[\u001b[39m\"\u001b[39m\u001b[39mMovie genres\u001b[39m\u001b[39m\"\u001b[39m] \u001b[39m=\u001b[39m tmp[\u001b[39m\"\u001b[39m\u001b[39mMovie genres\u001b[39m\u001b[39m\"\u001b[39m]\u001b[39m.\u001b[39mapply(\u001b[39mlambda\u001b[39;00m x: [] \u001b[39mif\u001b[39;00m pd\u001b[39m.\u001b[39misna(x) \u001b[39melse\u001b[39;00m \u001b[39mlist\u001b[39m(x\u001b[39m.\u001b[39mvalues()))\n\u001b[1;32m----> <a href='vscode-notebook-cell:/c%3A/Users/kelan/Documents/_Uni/ADA/ada-2023-project-dromadaire/P3.ipynb#X61sZmlsZQ%3D%3D?line=4'>5</a>\u001b[0m actors[\u001b[39m\"\u001b[39m\u001b[39misDrama\u001b[39m\u001b[39m\"\u001b[39m] \u001b[39m=\u001b[39m tmp\u001b[39m.\u001b[39;49mquery(\u001b[39m\"\u001b[39;49m\u001b[39m'\u001b[39;49m\u001b[39mdrama\u001b[39;49m\u001b[39m'\u001b[39;49m\u001b[39m in \u001b[39;49m\u001b[39m'\u001b[39;49m\u001b[39mMovie genres\u001b[39;49m\u001b[39m'\u001b[39;49m\u001b[39m\"\u001b[39;49m)\n",
      "File \u001b[1;32m~\\AppData\\Roaming\\Python\\Python312\\site-packages\\pandas\\core\\frame.py:4605\u001b[0m, in \u001b[0;36mDataFrame.query\u001b[1;34m(self, expr, inplace, **kwargs)\u001b[0m\n\u001b[0;32m   4602\u001b[0m res \u001b[39m=\u001b[39m \u001b[39mself\u001b[39m\u001b[39m.\u001b[39meval(expr, \u001b[39m*\u001b[39m\u001b[39m*\u001b[39mkwargs)\n\u001b[0;32m   4604\u001b[0m \u001b[39mtry\u001b[39;00m:\n\u001b[1;32m-> 4605\u001b[0m     result \u001b[39m=\u001b[39m \u001b[39mself\u001b[39;49m\u001b[39m.\u001b[39;49mloc[res]\n\u001b[0;32m   4606\u001b[0m \u001b[39mexcept\u001b[39;00m \u001b[39mValueError\u001b[39;00m:\n\u001b[0;32m   4607\u001b[0m     \u001b[39m# when res is multi-dimensional loc raises, but this is sometimes a\u001b[39;00m\n\u001b[0;32m   4608\u001b[0m     \u001b[39m# valid query\u001b[39;00m\n\u001b[0;32m   4609\u001b[0m     result \u001b[39m=\u001b[39m \u001b[39mself\u001b[39m[res]\n",
      "File \u001b[1;32m~\\AppData\\Roaming\\Python\\Python312\\site-packages\\pandas\\core\\indexing.py:1153\u001b[0m, in \u001b[0;36m_LocationIndexer.__getitem__\u001b[1;34m(self, key)\u001b[0m\n\u001b[0;32m   1150\u001b[0m axis \u001b[39m=\u001b[39m \u001b[39mself\u001b[39m\u001b[39m.\u001b[39maxis \u001b[39mor\u001b[39;00m \u001b[39m0\u001b[39m\n\u001b[0;32m   1152\u001b[0m maybe_callable \u001b[39m=\u001b[39m com\u001b[39m.\u001b[39mapply_if_callable(key, \u001b[39mself\u001b[39m\u001b[39m.\u001b[39mobj)\n\u001b[1;32m-> 1153\u001b[0m \u001b[39mreturn\u001b[39;00m \u001b[39mself\u001b[39;49m\u001b[39m.\u001b[39;49m_getitem_axis(maybe_callable, axis\u001b[39m=\u001b[39;49maxis)\n",
      "File \u001b[1;32m~\\AppData\\Roaming\\Python\\Python312\\site-packages\\pandas\\core\\indexing.py:1392\u001b[0m, in \u001b[0;36m_LocIndexer._getitem_axis\u001b[1;34m(self, key, axis)\u001b[0m\n\u001b[0;32m   1389\u001b[0m         \u001b[39mreturn\u001b[39;00m \u001b[39mself\u001b[39m\u001b[39m.\u001b[39mobj\u001b[39m.\u001b[39miloc[\u001b[39mtuple\u001b[39m(indexer)]\n\u001b[0;32m   1391\u001b[0m \u001b[39m# fall thru to straight lookup\u001b[39;00m\n\u001b[1;32m-> 1392\u001b[0m \u001b[39mself\u001b[39;49m\u001b[39m.\u001b[39;49m_validate_key(key, axis)\n\u001b[0;32m   1393\u001b[0m \u001b[39mreturn\u001b[39;00m \u001b[39mself\u001b[39m\u001b[39m.\u001b[39m_get_label(key, axis\u001b[39m=\u001b[39maxis)\n",
      "File \u001b[1;32m~\\AppData\\Roaming\\Python\\Python312\\site-packages\\pandas\\core\\indexing.py:1201\u001b[0m, in \u001b[0;36m_LocIndexer._validate_key\u001b[1;34m(self, key, axis)\u001b[0m\n\u001b[0;32m   1194\u001b[0m ax \u001b[39m=\u001b[39m \u001b[39mself\u001b[39m\u001b[39m.\u001b[39mobj\u001b[39m.\u001b[39m_get_axis(axis)\n\u001b[0;32m   1195\u001b[0m \u001b[39mif\u001b[39;00m \u001b[39misinstance\u001b[39m(key, \u001b[39mbool\u001b[39m) \u001b[39mand\u001b[39;00m \u001b[39mnot\u001b[39;00m (\n\u001b[0;32m   1196\u001b[0m     is_bool_dtype(ax\u001b[39m.\u001b[39mdtype)\n\u001b[0;32m   1197\u001b[0m     \u001b[39mor\u001b[39;00m ax\u001b[39m.\u001b[39mdtype\u001b[39m.\u001b[39mname \u001b[39m==\u001b[39m \u001b[39m\"\u001b[39m\u001b[39mboolean\u001b[39m\u001b[39m\"\u001b[39m\n\u001b[0;32m   1198\u001b[0m     \u001b[39mor\u001b[39;00m \u001b[39misinstance\u001b[39m(ax, MultiIndex)\n\u001b[0;32m   1199\u001b[0m     \u001b[39mand\u001b[39;00m is_bool_dtype(ax\u001b[39m.\u001b[39mget_level_values(\u001b[39m0\u001b[39m)\u001b[39m.\u001b[39mdtype)\n\u001b[0;32m   1200\u001b[0m ):\n\u001b[1;32m-> 1201\u001b[0m     \u001b[39mraise\u001b[39;00m \u001b[39mKeyError\u001b[39;00m(\n\u001b[0;32m   1202\u001b[0m         \u001b[39mf\u001b[39m\u001b[39m\"\u001b[39m\u001b[39m{\u001b[39;00mkey\u001b[39m}\u001b[39;00m\u001b[39m: boolean label can not be used without a boolean index\u001b[39m\u001b[39m\"\u001b[39m\n\u001b[0;32m   1203\u001b[0m     )\n\u001b[0;32m   1205\u001b[0m \u001b[39mif\u001b[39;00m \u001b[39misinstance\u001b[39m(key, \u001b[39mslice\u001b[39m) \u001b[39mand\u001b[39;00m (\n\u001b[0;32m   1206\u001b[0m     \u001b[39misinstance\u001b[39m(key\u001b[39m.\u001b[39mstart, \u001b[39mbool\u001b[39m) \u001b[39mor\u001b[39;00m \u001b[39misinstance\u001b[39m(key\u001b[39m.\u001b[39mstop, \u001b[39mbool\u001b[39m)\n\u001b[0;32m   1207\u001b[0m ):\n\u001b[0;32m   1208\u001b[0m     \u001b[39mraise\u001b[39;00m \u001b[39mTypeError\u001b[39;00m(\u001b[39mf\u001b[39m\u001b[39m\"\u001b[39m\u001b[39m{\u001b[39;00mkey\u001b[39m}\u001b[39;00m\u001b[39m: boolean values can not be used in a slice\u001b[39m\u001b[39m\"\u001b[39m)\n",
      "\u001b[1;31mKeyError\u001b[0m: 'False: boolean label can not be used without a boolean index'"
     ]
    }
   ],
   "source": [
    "# Joining the two datasets actors and movies\n",
    "tmp = actors.join(movies, how='left', lsuffix='_actors', rsuffix='_movies')\n",
    "# We turn the movie genres dict into a list\n",
    "tmp[\"Movie genres\"] = tmp[\"Movie genres\"].apply(lambda x: [] if pd.isna(x) else list(x.values()))\n",
    "# actors[\"isDrama\"] = tmp.query(\"'drama' in 'Movie genres'\")\n"
   ]
  },
  {
   "cell_type": "code",
   "execution_count": null,
   "metadata": {},
   "outputs": [],
   "source": [
    "# Input:\n",
    "#   - actor_name (str)\n",
    "#   - year (int)\n",
    "# Output:\n",
    "#   - Number of genres played by the actor until the given year\n",
    "def count_nb_genres_b4(actor_name, year):\n",
    "    all_genres_b4 = tmp[(tmp[\"Movie release date_actors\"] <= year) & (tmp[\"IMDb_actor_ID\"] == actor_name)][\"Movie genres\"].explode().unique()\n",
    "    return len(all_genres_b4)\n",
    "\n",
    "actors['genres_b4'] = [count_nb_genres_b4(row['IMDb_actor_ID'], row['Movie release date_actors']) for (index, row) in tmp.iterrows()]"
   ]
  },
  {
   "cell_type": "markdown",
   "metadata": {},
   "source": [
    "## 2.7 If the movie is a drama or not"
   ]
  },
  {
   "cell_type": "code",
   "execution_count": null,
   "metadata": {},
   "outputs": [],
   "source": []
  },
  {
   "cell_type": "markdown",
   "metadata": {},
   "source": [
    "## 2.8 Adding actor's sex & age at time of movie"
   ]
  },
  {
   "cell_type": "code",
   "execution_count": null,
   "metadata": {},
   "outputs": [],
   "source": [
    "# Merging the IMDb and CMU datasets for the character sex\n",
    "actors = actors.merge(charac[[\"Actor name\",  \"Actor gender\"]].drop_duplicates(subset=['Actor name']), how='left', left_on='primaryName', right_on='Actor name')\n",
    "actors[\"isMale\"] = actors[\"Actor gender\"].apply(lambda x : 1 if x == \"M\" else (0 if x == \"F\" else np.nan)).astype(pd.Int64Dtype())\n",
    "actors.drop(columns=[\"Actor name\", \"Actor gender\"], inplace=True)"
   ]
  },
  {
   "cell_type": "code",
   "execution_count": null,
   "metadata": {},
   "outputs": [],
   "source": [
    "# Input:\n",
    "#   - birth_year (int)\n",
    "#   - release_year (int)\n",
    "# Output:\n",
    "#   - Age of the actor at the release of the movie\n",
    "def age_at_release(birth_year, release_year):\n",
    "    if pd.isna(birth_year) or pd.isna(release_year) or birth_year == \"\\\\N\" or release_year == \"\\\\N\":\n",
    "        return np.nan\n",
    "    else:\n",
    "        return int(release_year) - int(birth_year)\n",
    "\n",
    "actors[\"age_at_release\"] = [age_at_release(row['birthYear'], row['Movie release date']) for (index, row) in actors.iterrows()]\n",
    "actors[\"age_at_release\"] = actors[\"age_at_release\"].astype(pd.Int64Dtype())"
   ]
  },
  {
   "cell_type": "code",
   "execution_count": null,
   "metadata": {},
   "outputs": [],
   "source": [
    "actors.sample(5)"
   ]
  },
  {
   "cell_type": "markdown",
   "metadata": {},
   "source": [
    "# 3 Final Data Analysis \n",
    "Let's take a look at what our final DataFrames look like\n",
    "## 3.1 Dataframe 1: Movies"
   ]
  },
  {
   "cell_type": "code",
   "execution_count": null,
   "metadata": {},
   "outputs": [],
   "source": [
    "# Get unfiltered movies with IMDb scores -> Selecting years that will not be plotted with the filtered data\n",
    "movies_ufR = movies_uf.query('`Movie release date` >= @max_movie_year').copy()\n",
    "movies_ufL = movies_uf.query('`Movie release date` <= @min_movie_year').copy()\n",
    "\n",
    "# Get filtered and unfiltered drama movies\n",
    "drama_movies = movies[movies['Movie genres'].apply(lambda x: 'Drama' in x.values())]\n",
    "drama_movies_ufR = movies_uf[movies_uf['Movie genres'].apply(lambda x: 'Drama' in x.values())].query('`Movie release date` >= @max_movie_year').copy()\n",
    "drama_movies_ufL = movies_uf[movies_uf['Movie genres'].apply(lambda x: 'Drama' in x.values())].query('`Movie release date` <= @min_movie_year').copy()\n",
    "\n",
    "# There is a movie with a typo in the original dataset, we can manually correct this \n",
    "meta_movie[\"Movie release date\"][meta_movie[\"Movie release date\"]==1010] = 2010\n",
    "\n",
    "# Count all movies without merging with IMDb\n",
    "all_movie_counts = meta_movie['Wikipedia movie ID'].groupby(meta_movie['Movie release date']).count()\n",
    "\n",
    "# Count movies after merging with IMDb with and without filtering\n",
    "movie_counts = movies['Wikipedia movie ID'].groupby(movies['Movie release date']).count()\n",
    "movie_counts_ufL = movies_ufL['Wikipedia movie ID'].groupby(movies_ufL['Movie release date']).count()\n",
    "movie_counts_ufR = movies_ufR['Wikipedia movie ID'].groupby(movies_ufR['Movie release date']).count()\n",
    "\n",
    "# Count drama movies after merging with IMDb with and without filtering\n",
    "drama_counts = drama_movies['Wikipedia movie ID'].groupby(drama_movies['Movie release date']).count()\n",
    "drama_counts_ufL = drama_movies_ufL['Wikipedia movie ID'].groupby(drama_movies_ufL['Movie release date']).count()\n",
    "drama_counts_ufR = drama_movies_ufR['Wikipedia movie ID'].groupby(drama_movies_ufR['Movie release date']).count()\n",
    "\n",
    "#       ----- PLOT -----\n",
    "fig, axes = plt.subplots(1, 2, figsize=(13, 6), sharey= True)\n",
    "\n",
    "# subplot 1: plot the counts of all movies\n",
    "axes[0].set_title('Movie count per Year')\n",
    "axes[0].set_ylabel('Number of movies')\n",
    "axes[0].set_xlabel('Year')\n",
    "axes[0].plot(all_movie_counts.index, all_movie_counts.values, color= 'C0', label= 'All movies')\n",
    "axes[0].plot(movie_counts.index, movie_counts.values, color= 'C1', label= 'All movies with IMDb scores - filtered')\n",
    "axes[0].plot(movie_counts_ufL.index, movie_counts_ufL.values, color= 'C1', linestyle = '--',label= 'All movies with IMDb scores - unfiltered')\n",
    "axes[0].plot(movie_counts_ufR.index, movie_counts_ufR.values, color= 'C1', linestyle = '--')\n",
    "axes[0].plot(drama_counts.index, drama_counts.values, color = 'C2', label='Dramas with IMDb scores - filtered')\n",
    "axes[0].plot(drama_counts_ufL.index, drama_counts_ufL.values, color ='C2', linestyle = '--', label='Dramas with IMDb scores - unfiltered')\n",
    "axes[0].plot(drama_counts_ufR.index, drama_counts_ufR.values, color ='C2', linestyle = '--')\n",
    "axes[0].legend(loc=\"upper left\")\n",
    "\n",
    "axes[1].set_title('Frequency of movie duration')\n",
    "axes[1].set_xlabel('Movie duration [minutes]')\n",
    "axes[1].hist(movies['Movie runtime'], bins = 100, color = 'C1', label= 'All movies with IMDb scores - filtered')\n",
    "axes[1].hist(drama_movies['Movie runtime'], bins = 100, color = 'C2', label= 'Dramas with IMDb scores - filtered')\n",
    "axes[1].legend(loc=\"upper right\")\n",
    "\n",
    "plt.tight_layout()\n",
    "plt.show()"
   ]
  },
  {
   "cell_type": "markdown",
   "metadata": {},
   "source": [
    "*Observation:* We have significantly reduced the number of films in our dataset. However, the distribution of drama movies is similar to the all movies with IMDb scores in both `Release date` and `Film duration`. We still have close to 15'000 drama movies to base our analysis on."
   ]
  },
  {
   "cell_type": "code",
   "execution_count": null,
   "metadata": {},
   "outputs": [],
   "source": [
    "# Display descriptive statistics for selected columns in the 'movies' DataFrame:\n",
    "# - 'Movie release date'\n",
    "# - 'Movie box office revenue'\n",
    "# - 'Movie runtime'\n",
    "# - 'startYear'\n",
    "# - 'averageRating'\n",
    "# - 'numVotes'\n",
    "movies[['Movie release date','Movie box office revenue','Movie runtime','startYear','averageRating','numVotes']].describe()"
   ]
  },
  {
   "cell_type": "code",
   "execution_count": null,
   "metadata": {},
   "outputs": [],
   "source": [
    "# Display descriptive statistics for selected columns in the 'drama_movies' DataFrame:\n",
    "# - 'Movie release date'\n",
    "# - 'Movie box office revenue'\n",
    "# - 'Movie runtime'\n",
    "# - 'startYear'\n",
    "# - 'averageRating'\n",
    "# - 'numVotes'\n",
    "drama_movies[['Movie release date','Movie box office revenue','Movie runtime','startYear','averageRating','numVotes']].describe()"
   ]
  },
  {
   "cell_type": "markdown",
   "metadata": {},
   "source": [
    "Now lets work on the **movie genres**, we can use the fact that they are a dictionary to have a look at their frequency"
   ]
  },
  {
   "cell_type": "code",
   "execution_count": null,
   "metadata": {},
   "outputs": [],
   "source": [
    "# N.B Takes 20s to run\n",
    "# definition of the custom function\n",
    "def count_genres(dictionary):\n",
    "    return pd.Series(list(dictionary.values())).value_counts()\n",
    "\n",
    "# Apply the custom function to the column\n",
    "genre_counts = movies['Movie genres'].apply(count_genres).fillna(0).sum()"
   ]
  },
  {
   "cell_type": "code",
   "execution_count": null,
   "metadata": {},
   "outputs": [],
   "source": [
    "# Plot top 10 most represented genres\n",
    "genre_counts = genre_counts.sort_values(ascending=False).head(10)\n",
    "genre_counts.plot.bar()\n",
    "plt.title(\"Top 10 genres with highest film count\")\n",
    "plt.xlabel(\"Genre\")\n",
    "plt.ylabel(\"Count\")\n",
    "plt.show()"
   ]
  },
  {
   "cell_type": "markdown",
   "metadata": {},
   "source": [
    "*Observation:* Based on the graph, it is evident that drama movies are significantly more represented than other genres.\n",
    "\n",
    "*Decision:* In light of this observation, we have decided to focus our analysis primarily on drama movies, considering their substantial representation in the dataset."
   ]
  },
  {
   "cell_type": "markdown",
   "metadata": {},
   "source": [
    "## 3.2 Dataframe 2: Actors"
   ]
  },
  {
   "cell_type": "code",
   "execution_count": null,
   "metadata": {},
   "outputs": [],
   "source": [
    "# Count the number of unique IMDb actor IDs in the 'actors' DataFrame.\n",
    "unique_actors = len(actors['IMDb_actor_ID'].unique())\n",
    "\n",
    "print('There are {} unique actors out of {} entries. A actor plays on average in {} films' .format(unique_actors, len(actors.index),len(actors.index)/unique_actors))"
   ]
  },
  {
   "cell_type": "markdown",
   "metadata": {},
   "source": [
    "This shows that there is a good range of actors in our dataset (i.e we don't have a large amount of different actors)."
   ]
  },
  {
   "cell_type": "code",
   "execution_count": null,
   "metadata": {},
   "outputs": [],
   "source": [
    "# Display a random sample of 5 rows from the 'actors' DataFrame.\n",
    "actors.sample(5)"
   ]
  },
  {
   "cell_type": "code",
   "execution_count": null,
   "metadata": {},
   "outputs": [],
   "source": [
    "# Display descriptive statistics for selected columns in the 'actors' DataFrame:\n",
    "# - 'Movie release date'\n",
    "# - 'awards'\n",
    "# - 'nominations'\n",
    "actors[['Movie release date','awards','nominations']].describe()"
   ]
  },
  {
   "cell_type": "markdown",
   "metadata": {},
   "source": [
    "*Observation:* We can see that, on average, an actor has less than 0.05 Oscars, which may be an important factor if there is a correlation with the frequency of an actor's selection"
   ]
  },
  {
   "cell_type": "markdown",
   "metadata": {},
   "source": [
    "# 4 Final dataframe setup and export"
   ]
  },
  {
   "cell_type": "code",
   "execution_count": null,
   "metadata": {},
   "outputs": [],
   "source": [
    "actors.set_index(['IMDb_ID','IMDb_actor_ID'], inplace=True, append=True)\n"
   ]
  },
  {
   "cell_type": "code",
   "execution_count": null,
   "metadata": {},
   "outputs": [],
   "source": [
    "no_features = 8\n",
    "no_info = len(actors.columns)- no_features\n",
    "# make copy of dataframe\n",
    "actors_with_indexing = actors.copy() \n",
    "\n",
    "# prepare MultiIndexing\n",
    "col_cat= [\"Info\"]*no_info + [\"Features\"] * no_features\n",
    "cols = list(zip(col_cat,actors.columns))\n",
    "\n",
    "# create MultiIndexing\n",
    "actors_with_indexing.columns=pd.MultiIndex.from_tuples(cols)\n"
   ]
  },
  {
   "cell_type": "code",
   "execution_count": null,
   "metadata": {},
   "outputs": [],
   "source": [
    "# Pickle data to use later\n",
    "actors_with_indexing.to_pickle(\"./data/actors.pkl\")\n",
    "movies.to_pickle(\"./data/movies.pkl\")"
   ]
  },
  {
   "cell_type": "code",
   "execution_count": null,
   "metadata": {},
   "outputs": [],
   "source": []
  }
 ],
 "metadata": {
  "kernelspec": {
   "display_name": "ada",
   "language": "python",
   "name": "python3"
  },
  "language_info": {
   "codemirror_mode": {
    "name": "ipython",
    "version": 3
   },
   "file_extension": ".py",
   "mimetype": "text/x-python",
   "name": "python",
   "nbconvert_exporter": "python",
   "pygments_lexer": "ipython3",
   "version": "3.12.0"
  },
  "orig_nbformat": 4
 },
 "nbformat": 4,
 "nbformat_minor": 2
}
