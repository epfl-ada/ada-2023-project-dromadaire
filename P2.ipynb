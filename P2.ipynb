{
 "cells": [
  {
   "cell_type": "code",
   "execution_count": 1,
   "metadata": {},
   "outputs": [],
   "source": [
    "import pandas as pd\n",
    "import numpy as np\n",
    "import matplotlib.pyplot as plt\n",
    "%matplotlib inline\n",
    "import seaborn as sns\n",
    "import math\n",
    "import ast\n",
    "import progressbar\n",
    "import os"
   ]
  },
  {
   "cell_type": "markdown",
   "metadata": {},
   "source": [
    "## Import the data\n",
    " First we load all the datasets that we will be using"
   ]
  },
  {
   "cell_type": "code",
   "execution_count": 2,
   "metadata": {},
   "outputs": [],
   "source": [
    "# Data paths (folder and path are seperated in order to easily check if the pickle version of the file exists)\n",
    "characters_metadata_path    = {'path':'./data/MovieSummaries/character.metadata',   'extension':'.tsv'}\n",
    "movies_metadata_path        = {'path':'./data/MovieSummaries/movie.metadata',       'extension':'.tsv'}\n",
    "movie_summaries_path        = {'path':'./data/MovieSummaries/plot_summaries',       'extension':'.txt'}\n",
    "\n",
    "imdb_names_path         = {'path':'./data/imdb/imdb_names',         'extension':'.tsv'} \n",
    "imdb_principals_path    = {'path':'./data/imdb/imdb_principals',    'extension':'.tsv'}\n",
    "imdb_ratings_path       = {'path':'./data/imdb/imdb_ratings',       'extension':'.tsv'} \n",
    "imdb_titles_path        = {'path':'./data/imdb/imdb_titles',        'extension':'.tsv'}\n",
    "\n",
    "kaggle_awards_path = {'path':'./data/kaggle/the_oscar_award', 'extension':'.csv'}\n",
    "\n",
    "# Column names for the MCU datasets (since they are not provided in the datasets themselves)\n",
    "colnames_charac = ['Wikipedia movie ID', 'Freebase movie ID', 'Movie release date', 'Character name', 'Actor date of birth', 'Actor gender', 'Actor height', 'Actor ethnicity', 'Actor name', 'Actor age', 'Freebase character/actor map ID', 'Freebase character ID', 'Freebase actor ID']\n",
    "colnames_movie = ['Wikipedia movie ID', 'Freebase movie ID', 'Movie name', 'Movie release date', 'Movie box office revenue', 'Movie runtime', 'Movie languages', 'Movie countries', 'Movie genres'] \n",
    "colnames_plot = ['Wikipedia movie ID', 'Plot'] "
   ]
  },
  {
   "cell_type": "code",
   "execution_count": 3,
   "metadata": {},
   "outputs": [],
   "source": [
    "pkl_extension = \".pkl\"\n",
    "\n",
    "# Load the dataset given the data dict containing the path and the file extension and check if \n",
    "# the pickle exists and either load it or create it and return the dataframe\n",
    "def load_and_pickle(data_dict, default_load):\n",
    "    if os.path.exists(data_dict['path'] + pkl_extension):\n",
    "        print('Pickle file found for {} .'.format(data_dict['path']))\n",
    "        return pd.read_pickle(data_dict['path'] + pkl_extension)\n",
    "    else:\n",
    "        print('No pickle found for {}. Creating it...'.format(data_dict['path']))\n",
    "        df = default_load(''.join(data_dict.values()))\n",
    "        df.to_pickle(data_dict['path'] + pkl_extension)\n",
    "        return df"
   ]
  },
  {
   "cell_type": "code",
   "execution_count": 4,
   "metadata": {},
   "outputs": [
    {
     "name": "stdout",
     "output_type": "stream",
     "text": [
      "Pickle file found for ./data/MovieSummaries/character.metadata .\n",
      "Pickle file found for ./data/MovieSummaries/movie.metadata .\n",
      "Pickle file found for ./data/MovieSummaries/plot_summaries .\n",
      "Pickle file found for ./data/imdb/imdb_names .\n",
      "Pickle file found for ./data/imdb/imdb_principals .\n",
      "Pickle file found for ./data/imdb/imdb_ratings .\n",
      "Pickle file found for ./data/imdb/imdb_titles .\n",
      "Pickle file found for ./data/kaggle/the_oscar_award .\n"
     ]
    }
   ],
   "source": [
    "# Takes ~2 minute without pickles, ~20 seconds with pickles\n",
    "\n",
    "# Load datasets \n",
    "meta_charac_raw = load_and_pickle(characters_metadata_path, lambda path: pd.read_csv(path, names=colnames_charac, sep='\\t'))\n",
    "meta_movie_raw  = load_and_pickle(movies_metadata_path, lambda path: pd.read_csv(path, names=colnames_movie, sep='\\t'))\n",
    "plot            = load_and_pickle(movie_summaries_path, lambda path: pd.read_csv(path, names=colnames_plot, sep='\\t'))\n",
    "\n",
    "# Load IMDB datasets\n",
    "imdb_names      = load_and_pickle(imdb_names_path, lambda path: pd.read_csv(path, header=0, sep='\\t'))\n",
    "imdb_principals = load_and_pickle(imdb_principals_path, lambda path: pd.read_csv(path, header=0, sep='\\t'))\n",
    "imdb_raitings   = load_and_pickle(imdb_ratings_path, lambda path: pd.read_csv(path, header=0 , sep='\\t'))\n",
    "imdb_title_raw  = load_and_pickle(imdb_titles_path, lambda path: pd.read_csv(path, header=0, sep='\\t', dtype= 'string'))\n",
    "\n",
    "# Load kaggle awards dataset\n",
    "kaggle_awards_raw = load_and_pickle(kaggle_awards_path, lambda path: pd.read_csv(path, header=0))"
   ]
  },
  {
   "cell_type": "markdown",
   "metadata": {},
   "source": [
    "## Shaping the datasets\n",
    "\n",
    "Here the goal is simply to make sure that the columns in datasets have correct types and to remove columns that we won't be needing so as not to clutter our analysis"
   ]
  },
  {
   "cell_type": "code",
   "execution_count": 5,
   "metadata": {},
   "outputs": [],
   "source": [
    "# Select columns of the original dataset\n",
    "meta_charac = meta_charac_raw.drop(['Freebase movie ID', 'Freebase character/actor map ID', 'Freebase character ID', 'Freebase actor ID'], axis=1).copy()\n",
    "meta_movie = meta_movie_raw.drop(['Freebase movie ID', 'Movie runtime', 'Movie languages', 'Movie countries'], axis=1).copy()\n",
    "\n",
    "\n",
    "# Select colomns of IMDb dataset\n",
    "# TODO: imdb_names drop (death, known for) ?\n",
    "# TODO: imdb_principles drop (category, job) ?\n",
    "# TODO: imdb_title drop (primary/original title) ?\n",
    "imdb_title = imdb_title_raw.drop(['endYear', 'runtimeMinutes'], axis=1).copy()\n",
    "\n",
    "# Select columns of kaggle awards dataset\n",
    "kaggle_awards = kaggle_awards_raw.drop(['category'], axis = 1).copy()"
   ]
  },
  {
   "cell_type": "code",
   "execution_count": 6,
   "metadata": {},
   "outputs": [],
   "source": [
    "# For consistency we remove day and month from actor date of birth and movie release date.\n",
    "meta_movie[\"Movie release date\"] = meta_movie[\"Movie release date\"].apply(lambda x: x.split(\"-\")[0] if type(x) == str else x).astype(pd.Int64Dtype())\n",
    "meta_charac[\"Movie release date\"] = meta_charac[\"Movie release date\"].apply(lambda x: x.split(\"-\")[0] if type(x) == str else x).astype(pd.Int64Dtype())\n",
    "meta_charac[\"Actor date of birth\"] = meta_charac[\"Actor date of birth\"].apply(lambda x: x.split(\"-\")[0] if type(x) == str else x).astype(pd.Int64Dtype())\n",
    "\n",
    "# turn movie genres into dictionary\n",
    "meta_movie['Movie genres'] = meta_movie['Movie genres'].apply(ast.literal_eval)"
   ]
  },
  {
   "cell_type": "code",
   "execution_count": 7,
   "metadata": {},
   "outputs": [
    {
     "name": "stdout",
     "output_type": "stream",
     "text": [
      "--- Meta Movie ---\n",
      "Wikipedia movie ID            int64\n",
      "Movie name                   object\n",
      "Movie release date            Int64\n",
      "Movie box office revenue    float64\n",
      "Movie genres                 object\n",
      "--- Meta Character ---\n",
      "Wikipedia movie ID       int64\n",
      "Movie release date       Int64\n",
      "Character name          object\n",
      "Actor date of birth      Int64\n",
      "Actor gender            object\n",
      "Actor height           float64\n",
      "Actor ethnicity         object\n",
      "Actor name              object\n",
      "Actor age              float64\n",
      "--- Plot ---\n",
      "Wikipedia movie ID     int64\n",
      "Plot                  object\n"
     ]
    }
   ],
   "source": [
    "print('--- Meta Movie ---')\n",
    "print(meta_movie.dtypes.to_string())\n",
    "print('--- Meta Character ---')\n",
    "print(meta_charac.dtypes.to_string())\n",
    "print('--- Plot ---')\n",
    "print(plot.dtypes.to_string())"
   ]
  },
  {
   "cell_type": "markdown",
   "metadata": {},
   "source": [
    "We will now have a look at the NaNs in the resulting datasets"
   ]
  },
  {
   "cell_type": "code",
   "execution_count": 8,
   "metadata": {},
   "outputs": [
    {
     "data": {
      "image/png": "[encoded data removed]",
      "text/plain": [
       "<Figure size 1300x600 with 3 Axes>"
      ]
     },
     "metadata": {},
     "output_type": "display_data"
    },
    {
     "name": "stdout",
     "output_type": "stream",
     "text": [
      "--- Dataset shapes ---\n",
      "Movies metadata: (81741, 5)\n",
      "Character metadata: (81741, 5)\n",
      "Plot summaries: (42303, 2)\n"
     ]
    }
   ],
   "source": [
    "# Calculating missing data\n",
    "missing_movie = meta_movie.isnull().sum() * 100 / len(meta_movie)\n",
    "missing_char = meta_charac.isnull().sum() * 100 / len(meta_charac)\n",
    "missing_plot = plot.isnull().sum() * 100 / len(plot)\n",
    "\n",
    "#Plotting\n",
    "fig, (ax1, ax2, ax3) = plt.subplots(1, 3, figsize=(13, 6), sharey=True)\n",
    "fig.suptitle('Missing data per column')\n",
    "\n",
    "ax1.set(ylabel= 'Missing Data [%]')\n",
    "ax1.bar(missing_movie.index, missing_movie.values)\n",
    "ax1.tick_params(axis='x', labelrotation = 90)\n",
    "ax1.set_title(\"Movie Metadata\")\n",
    "ax2.bar(missing_char.index, missing_char.values)\n",
    "ax2.tick_params(axis='x', labelrotation = 90)\n",
    "ax2.set_title(\"Character Metadata\")\n",
    "ax3.bar(missing_plot.index, missing_plot.values)\n",
    "ax3.tick_params(axis='x', labelrotation = 90)\n",
    "ax3.set_title(\"Plot Summaries\")\n",
    "plt.tight_layout()\n",
    "plt.show()\n",
    "\n",
    "print(\"--- Dataset shapes ---\")\n",
    "print(\"Movies metadata: {}\" .format(meta_movie.shape))\n",
    "print(\"Character metadata: {}\" .format(meta_movie.shape))\n",
    "print(\"Plot summaries: {}\" .format(plot.shape))"
   ]
  },
  {
   "cell_type": "markdown",
   "metadata": {},
   "source": [
    "*Observation:* From this initial analysis, it's evident that there is a significant amount of missing data.\n",
    "\n",
    "*Action:* To address this, we've decided to drop certain actor features, specifically `character name` ,  `actor height`, `actor ethnicity`, and `actor age`, recognizing the high incidence of missing values in these columns. We are keeping `Movie box office revenue` but are aware that we will have to be careful not to use it as is in our analysis.\n"
   ]
  },
  {
   "cell_type": "code",
   "execution_count": 9,
   "metadata": {},
   "outputs": [],
   "source": [
    "charac = meta_charac.drop(columns=['Character name','Actor ethnicity', 'Actor height', 'Actor age'])"
   ]
  },
  {
   "cell_type": "markdown",
   "metadata": {},
   "source": [
    "# 1. Dataframe 1: movies\n",
    "## 1.1 Adding IMDb scores\n",
    "We will start by adding the IMDb scores to the movie dataset, we want every movie in our dataset to have a rating, so we will use an **inner merge** (default) on the **title** and **year**. \n",
    "\n",
    "But first will need to have a look at the IMDb dataset."
   ]
  },
  {
   "cell_type": "code",
   "execution_count": 11,
   "metadata": {},
   "outputs": [
    {
     "name": "stdout",
     "output_type": "stream",
     "text": [
      "     ----- Title data sample -----\n"
     ]
    },
    {
     "data": {
      "text/html": [
       "<div>\n",
       "<style scoped>\n",
       "    .dataframe tbody tr th:only-of-type {\n",
       "        vertical-align: middle;\n",
       "    }\n",
       "\n",
       "    .dataframe tbody tr th {\n",
       "        vertical-align: top;\n",
       "    }\n",
       "\n",
       "    .dataframe thead th {\n",
       "        text-align: right;\n",
       "    }\n",
       "</style>\n",
       "<table border=\"1\" class=\"dataframe\">\n",
       "  <thead>\n",
       "    <tr style=\"text-align: right;\">\n",
       "      <th></th>\n",
       "      <th>tconst</th>\n",
       "      <th>titleType</th>\n",
       "      <th>primaryTitle</th>\n",
       "      <th>originalTitle</th>\n",
       "      <th>isAdult</th>\n",
       "      <th>startYear</th>\n",
       "      <th>genres</th>\n",
       "    </tr>\n",
       "  </thead>\n",
       "  <tbody>\n",
       "    <tr>\n",
       "      <th>3544792</th>\n",
       "      <td>tt14717274</td>\n",
       "      <td>tvEpisode</td>\n",
       "      <td>Episode #1.287</td>\n",
       "      <td>Episode #1.287</td>\n",
       "      <td>0</td>\n",
       "      <td>\\N</td>\n",
       "      <td>Drama</td>\n",
       "    </tr>\n",
       "    <tr>\n",
       "      <th>5094065</th>\n",
       "      <td>tt19800874</td>\n",
       "      <td>tvEpisode</td>\n",
       "      <td>Episode dated 23 July 2021</td>\n",
       "      <td>Episode dated 23 July 2021</td>\n",
       "      <td>1</td>\n",
       "      <td>2021</td>\n",
       "      <td>Adult</td>\n",
       "    </tr>\n",
       "    <tr>\n",
       "      <th>8223178</th>\n",
       "      <td>tt5299300</td>\n",
       "      <td>video</td>\n",
       "      <td>John Carter: Populating Mars</td>\n",
       "      <td>John Carter: Populating Mars</td>\n",
       "      <td>0</td>\n",
       "      <td>2012</td>\n",
       "      <td>Short</td>\n",
       "    </tr>\n",
       "    <tr>\n",
       "      <th>7405352</th>\n",
       "      <td>tt3441982</td>\n",
       "      <td>tvEpisode</td>\n",
       "      <td>Aflevering 337</td>\n",
       "      <td>Aflevering 337</td>\n",
       "      <td>0</td>\n",
       "      <td>2009</td>\n",
       "      <td>Adventure,Drama,Family</td>\n",
       "    </tr>\n",
       "    <tr>\n",
       "      <th>7295743</th>\n",
       "      <td>tt3189370</td>\n",
       "      <td>tvEpisode</td>\n",
       "      <td>Episode #1.3</td>\n",
       "      <td>Episode #1.3</td>\n",
       "      <td>0</td>\n",
       "      <td>\\N</td>\n",
       "      <td>Adventure</td>\n",
       "    </tr>\n",
       "  </tbody>\n",
       "</table>\n",
       "</div>"
      ],
      "text/plain": [
       "             tconst  titleType                  primaryTitle  \\\n",
       "3544792  tt14717274  tvEpisode                Episode #1.287   \n",
       "5094065  tt19800874  tvEpisode    Episode dated 23 July 2021   \n",
       "8223178   tt5299300      video  John Carter: Populating Mars   \n",
       "7405352   tt3441982  tvEpisode                Aflevering 337   \n",
       "7295743   tt3189370  tvEpisode                  Episode #1.3   \n",
       "\n",
       "                        originalTitle isAdult startYear  \\\n",
       "3544792                Episode #1.287       0        \\N   \n",
       "5094065    Episode dated 23 July 2021       1      2021   \n",
       "8223178  John Carter: Populating Mars       0      2012   \n",
       "7405352                Aflevering 337       0      2009   \n",
       "7295743                  Episode #1.3       0        \\N   \n",
       "\n",
       "                         genres  \n",
       "3544792                   Drama  \n",
       "5094065                   Adult  \n",
       "8223178                   Short  \n",
       "7405352  Adventure,Drama,Family  \n",
       "7295743               Adventure  "
      ]
     },
     "metadata": {},
     "output_type": "display_data"
    },
    {
     "name": "stdout",
     "output_type": "stream",
     "text": [
      "     ----- Raiting data overview -----\n"
     ]
    },
    {
     "data": {
      "text/html": [
       "<div>\n",
       "<style scoped>\n",
       "    .dataframe tbody tr th:only-of-type {\n",
       "        vertical-align: middle;\n",
       "    }\n",
       "\n",
       "    .dataframe tbody tr th {\n",
       "        vertical-align: top;\n",
       "    }\n",
       "\n",
       "    .dataframe thead th {\n",
       "        text-align: right;\n",
       "    }\n",
       "</style>\n",
       "<table border=\"1\" class=\"dataframe\">\n",
       "  <thead>\n",
       "    <tr style=\"text-align: right;\">\n",
       "      <th></th>\n",
       "      <th>tconst</th>\n",
       "      <th>averageRating</th>\n",
       "      <th>numVotes</th>\n",
       "    </tr>\n",
       "  </thead>\n",
       "  <tbody>\n",
       "    <tr>\n",
       "      <th>1224766</th>\n",
       "      <td>tt6487616</td>\n",
       "      <td>6.0</td>\n",
       "      <td>39</td>\n",
       "    </tr>\n",
       "    <tr>\n",
       "      <th>118945</th>\n",
       "      <td>tt0176107</td>\n",
       "      <td>6.5</td>\n",
       "      <td>24</td>\n",
       "    </tr>\n",
       "    <tr>\n",
       "      <th>42775</th>\n",
       "      <td>tt0064656</td>\n",
       "      <td>5.6</td>\n",
       "      <td>13</td>\n",
       "    </tr>\n",
       "    <tr>\n",
       "      <th>412094</th>\n",
       "      <td>tt0853066</td>\n",
       "      <td>8.5</td>\n",
       "      <td>92</td>\n",
       "    </tr>\n",
       "    <tr>\n",
       "      <th>627652</th>\n",
       "      <td>tt1332665</td>\n",
       "      <td>7.2</td>\n",
       "      <td>80</td>\n",
       "    </tr>\n",
       "  </tbody>\n",
       "</table>\n",
       "</div>"
      ],
      "text/plain": [
       "            tconst  averageRating  numVotes\n",
       "1224766  tt6487616            6.0        39\n",
       "118945   tt0176107            6.5        24\n",
       "42775    tt0064656            5.6        13\n",
       "412094   tt0853066            8.5        92\n",
       "627652   tt1332665            7.2        80"
      ]
     },
     "metadata": {},
     "output_type": "display_data"
    }
   ],
   "source": [
    "#takes 25s to run\n",
    "print(\"     ----- Title data sample -----\")\n",
    "display(imdb_title.sample(5))\n",
    "print(\"     ----- Raiting data overview -----\")\n",
    "display(imdb_raitings.sample(5))"
   ]
  },
  {
   "cell_type": "code",
   "execution_count": 10,
   "metadata": {},
   "outputs": [
    {
     "name": "stdout",
     "output_type": "stream",
     "text": [
      "--- Movie dataset size ---\n",
      "(35612, 10)\n"
     ]
    }
   ],
   "source": [
    "# TODO: Get a better merge (Primary/ original titles ...)\n",
    "\n",
    "imdb_movieTitle = imdb_title[imdb_title['titleType'] == 'movie'].copy() #keep only movies\n",
    "imdb_movieTitle = imdb_movieTitle[imdb_movieTitle['startYear'] != '\\\\N'].copy() #remove nan years\n",
    "imdb_movieTitle['startYear'] = imdb_movieTitle['startYear'].astype(int) # turn year to int\n",
    "imdb_names.rename(columns={'nconst':'IMDb_actor_ID'}, inplace=True) #rename actor id for ease of use\n",
    "\n",
    "# Merging the datasets\n",
    "movies = meta_movie\\\n",
    "            .merge(imdb_movieTitle[['originalTitle','startYear','tconst']], left_on= ['Movie name', 'Movie release date'], right_on= ['originalTitle','startYear'], how= 'inner')\\\n",
    "            .merge(imdb_raitings, how ='inner')\n",
    "movies.rename(columns={\"tconst\":\"IMDb_ID\"}, inplace= True) #rename IMDb ID for ease of use\n",
    "\n",
    "print(\"--- Movie dataset size ---\")\n",
    "print(movies.shape)"
   ]
  },
  {
   "cell_type": "markdown",
   "metadata": {},
   "source": [
    "Now lets work on the **movie genres**, we can use the fact that they are a dictionary to have a look at their frequency"
   ]
  },
  {
   "cell_type": "code",
   "execution_count": 12,
   "metadata": {},
   "outputs": [],
   "source": [
    "# N.B Takes 20s to run\n",
    "def count_genres(dictionary):\n",
    "    return pd.Series(list(dictionary.values())).value_counts()\n",
    "\n",
    "# Apply the custom function to the column\n",
    "genre_counts = movies['Movie genres'].apply(count_genres).fillna(0).sum()\n"
   ]
  },
  {
   "cell_type": "code",
   "execution_count": 13,
   "metadata": {},
   "outputs": [
    {
     "data": {
      "image/png": "[encoded data removed]",
      "text/plain": [
       "<Figure size 640x480 with 1 Axes>"
      ]
     },
     "metadata": {},
     "output_type": "display_data"
    }
   ],
   "source": [
    "# Plot top 10 most represented genres\n",
    "genre_counts = genre_counts.sort_values(ascending=False).head(10)\n",
    "genre_counts.plot.bar()\n",
    "plt.title(\"Top 10 genres with highest film count\")\n",
    "plt.xlabel(\"Genre\")\n",
    "plt.ylabel(\"Count\")\n",
    "plt.show()"
   ]
  },
  {
   "cell_type": "markdown",
   "metadata": {},
   "source": [
    "*Observation:* Based on the graph, it is evident that drama movies are significantly more represented than other genres.\n",
    "\n",
    "*Decision:* In light of this observation, we have decided to focus our analysis primarily on drama movies, considering their substantial representation in the dataset."
   ]
  },
  {
   "cell_type": "markdown",
   "metadata": {},
   "source": [
    "## 1.2 Filtering\n",
    "We are proceeding to filter outliers in the dataset. The goal is to identify and exclude any data points that deviate significantly from the general pattern, ensuring that our analysis is not unduly influenced by extreme values."
   ]
  },
  {
   "cell_type": "code",
   "execution_count": null,
   "metadata": {},
   "outputs": [],
   "source": [
    "#Save an unfieltered version of movies\n",
    "movies_uf = movies.copy()\n",
    "\n",
    "# There are outliers in the film duration. We are removing them to standardise our data\n",
    "max_movie_runtime = 200 #minutes\n",
    "min_movie_runtime = 40 #minutes\n",
    "movies = movies.query('`Movie runtime` <= @max_movie_runtime and `Movie runtime` >= @min_movie_runtime').copy()\n",
    "\n",
    "# To ensure enough films are available per year, we are removing the older and newer years\n",
    "max_movie_year = 2012\n",
    "min_movie_year = 1930\n",
    "movies = movies.query('`Movie release date` <= @max_movie_year and `Movie release date` >= @min_movie_year').copy()\n"
   ]
  },
  {
   "cell_type": "markdown",
   "metadata": {},
   "source": [
    "# 2. Dataframe 2 : Actors\n",
    "## 2.1 Extracting main characters from IMDb \n"
   ]
  },
  {
   "cell_type": "code",
   "execution_count": 16,
   "metadata": {},
   "outputs": [],
   "source": [
    "#***************\n",
    "# Function: get_top_actors\n",
    "# In: - movies -> movie dataset \n",
    "#     - imdb_principals -> IMDb dataset with principal actors\n",
    "#     - top_n -> number of principal actors to extract (default 3) [int]\n",
    "#\n",
    "# Out: - movie_actors -> dataframe with all actors per film. Columns: IMDb_ID, actor, ordering\n",
    "# ***************\n",
    "\n",
    "def get_top_actors(movies, imdb_principals, top_n=3):\n",
    "    # Filter the 'imdb_principals' DataFrame to include only rows where the category is 'actor' or 'actress'.\n",
    "    imdb_principal_actors = imdb_principals.query('category == \"actor\" | category == \"actress\"')\n",
    "\n",
    "    # Further filter the above DataFrame to include only those actors/actresses that appear in the 'movies' DataFrame (matched by 'IMDb_ID')\n",
    "    # and are within the top 'top_n' ordering. 'ordering' likely refers to the importance or lead level of the actor in the movie.\n",
    "    imdb_principal_actors_valid = imdb_principal_actors[(imdb_principal_actors[\"IMDb_ID\"].isin(movies[\"IMDb_ID\"].values.tolist())) & \n",
    "                                                        (imdb_principal_actors[\"ordering\"] <= top_n)]\n",
    "\n",
    "    # Initialize an empty list to store movie-actor pairings.\n",
    "    movie_actors = []\n",
    "\n",
    "    bar = progressbar.ProgressBar(maxval=len(movies[\"IMDb_ID\"])).start()\n",
    "\n",
    "    # Iterate over each movie ID in the 'movies' DataFrame.\n",
    "    for idx, id in enumerate(movies[\"IMDb_ID\"]):\n",
    "         # For each movie, find corresponding actors from 'imdb_principal_actors_valid' and select 'ordering' and 'IMDb_actor_ID'.\n",
    "        tmp = imdb_principal_actors_valid.loc[imdb_principal_actors_valid[\"IMDb_ID\"] == id][[\"ordering\", \"IMDb_actor_ID\"]]\n",
    "\n",
    "        # Append each actor's information along with the movie ID to the 'movie_actors' list.\n",
    "        for _, row in tmp.iterrows():\n",
    "            movie_actors.append([id, row[\"IMDb_actor_ID\"], row[\"ordering\"]])\n",
    "        bar.update(idx)\n",
    "\n",
    "    # Convert the 'movie_actors' list into a DataFrame for easier handling and readability.\n",
    "    movie_actors = pd.DataFrame(movie_actors, columns=['IMDb_ID', 'actor', 'ordering'])\n",
    "\n",
    "    # Return the resulting DataFrame.\n",
    "    return movie_actors"
   ]
  },
  {
   "cell_type": "code",
   "execution_count": 17,
   "metadata": {},
   "outputs": [
    {
     "name": "stderr",
     "output_type": "stream",
     "text": [
      " 99% |####################################################################### |\r"
     ]
    },
    {
     "data": {
      "text/html": [
       "<div>\n",
       "<style scoped>\n",
       "    .dataframe tbody tr th:only-of-type {\n",
       "        vertical-align: middle;\n",
       "    }\n",
       "\n",
       "    .dataframe tbody tr th {\n",
       "        vertical-align: top;\n",
       "    }\n",
       "\n",
       "    .dataframe thead th {\n",
       "        text-align: right;\n",
       "    }\n",
       "</style>\n",
       "<table border=\"1\" class=\"dataframe\">\n",
       "  <thead>\n",
       "    <tr style=\"text-align: right;\">\n",
       "      <th></th>\n",
       "      <th>IMDb_ID</th>\n",
       "      <th>actor</th>\n",
       "      <th>ordering</th>\n",
       "    </tr>\n",
       "  </thead>\n",
       "  <tbody>\n",
       "    <tr>\n",
       "      <th>0</th>\n",
       "      <td>tt0228333</td>\n",
       "      <td>nm0000449</td>\n",
       "      <td>1</td>\n",
       "    </tr>\n",
       "    <tr>\n",
       "      <th>1</th>\n",
       "      <td>tt0228333</td>\n",
       "      <td>nm0001084</td>\n",
       "      <td>2</td>\n",
       "    </tr>\n",
       "    <tr>\n",
       "      <th>2</th>\n",
       "      <td>tt0228333</td>\n",
       "      <td>nm0000427</td>\n",
       "      <td>3</td>\n",
       "    </tr>\n",
       "    <tr>\n",
       "      <th>3</th>\n",
       "      <td>tt0094806</td>\n",
       "      <td>nm0471903</td>\n",
       "      <td>1</td>\n",
       "    </tr>\n",
       "    <tr>\n",
       "      <th>4</th>\n",
       "      <td>tt0094806</td>\n",
       "      <td>nm0435274</td>\n",
       "      <td>2</td>\n",
       "    </tr>\n",
       "  </tbody>\n",
       "</table>\n",
       "</div>"
      ],
      "text/plain": [
       "     IMDb_ID      actor  ordering\n",
       "0  tt0228333  nm0000449         1\n",
       "1  tt0228333  nm0001084         2\n",
       "2  tt0228333  nm0000427         3\n",
       "3  tt0094806  nm0471903         1\n",
       "4  tt0094806  nm0435274         2"
      ]
     },
     "execution_count": 17,
     "metadata": {},
     "output_type": "execute_result"
    }
   ],
   "source": [
    "imdb_principals.rename(columns={'nconst':'IMDb_actor_ID'}, inplace=True)\n",
    "imdb_principals.rename(columns={'tconst':'IMDb_ID'}, inplace=True)\n",
    "\n",
    "movie_actors = get_top_actors(movies, imdb_principals)\n",
    "movie_actors.head()"
   ]
  },
  {
   "cell_type": "markdown",
   "metadata": {},
   "source": [
    "## 2.2 Creating a one-to-many relationship\n",
    "We want a one-to-many relationship between movies and movie_actors, i.e for every movie_actor, there is **exactly** one movie (no NaNs)"
   ]
  },
  {
   "cell_type": "code",
   "execution_count": 20,
   "metadata": {},
   "outputs": [],
   "source": [
    "# creation of the DF only with valid actors\n",
    "movies = movies[movies[\"IMDb_ID\"].isin(movie_actors[\"IMDb_ID\"].unique().tolist())]"
   ]
  },
  {
   "cell_type": "markdown",
   "metadata": {},
   "source": []
  },
  {
   "cell_type": "code",
   "execution_count": 21,
   "metadata": {},
   "outputs": [],
   "source": [
    "# TODO: @THEO -> Pourquoi on fait ca??\n",
    "\n",
    "# # takes ~10 seconds\n",
    "# actors = movie_actors.merge(movies[['Wikipedia movie ID', 'Movie name', 'Movie release date', 'IMDb_ID']], on='IMDb_ID')\n",
    "# actors = actors.merge(imdb_names[['primaryName', 'IMDb_actor_ID']], left_on='actor', right_on='IMDb_actor_ID').drop('IMDb_actor_ID', axis=1)\n",
    "actors = movie_actors"
   ]
  },
  {
   "cell_type": "markdown",
   "metadata": {},
   "source": [
    "# Awards feature\n",
    "\n",
    "As a specific actor feature, we want to use the number of awards won. To do this we use a kaggle dataset ([link](https://www.kaggle.com/datasets/unanimad/the-oscar-award/code)).\n"
   ]
  },
  {
   "cell_type": "code",
   "execution_count": null,
   "metadata": {},
   "outputs": [],
   "source": [
    "kaggle_awards = pd.read_csv('./data/kaggle/the_oscar_award.csv', header=0)\n",
    "display(kaggle_awards)"
   ]
  },
  {
   "cell_type": "markdown",
   "metadata": {},
   "source": [
    "We should filter to keep only movies that are in our dataset"
   ]
  },
  {
   "cell_type": "code",
   "execution_count": null,
   "metadata": {},
   "outputs": [],
   "source": [
    "kaggle_awards = kaggle_awards[kaggle_awards['name'].isin(actors['primaryName'].unique())]\n",
    "kaggle_awards = kaggle_awards[kaggle_awards['film'].isin(movies['Movie name'].unique())]\n",
    "kaggle_awards"
   ]
  },
  {
   "cell_type": "code",
   "execution_count": null,
   "metadata": {},
   "outputs": [],
   "source": [
    "kaggle_nans = kaggle_awards.isnull().sum() * 100 / len(kaggle_awards)\n",
    "kaggle_nans.plot(kind='bar')\n",
    "plt.title('Percentage of missing data per column')\n",
    "plt.xlabel('Column')\n",
    "plt.ylabel('Percentage of missing data [%]')"
   ]
  },
  {
   "cell_type": "markdown",
   "metadata": {},
   "source": [
    "As we can see, the dataset is mostly NaNs free.\n",
    "\n",
    "Let's now define a function to get the number of awards won by a given actor up until a given year. For this feature we will only consider the number of awards that the actor won before the movie was released. Using this function we will be able to add a new column in our previous dataframe. \n",
    "\n",
    "The function allow counting both the amount of awards won but also the number of nominations"
   ]
  },
  {
   "cell_type": "code",
   "execution_count": null,
   "metadata": {},
   "outputs": [],
   "source": [
    "def count_awards(actor_name, year, win):\n",
    "    filtered = kaggle_awards.query(\"year_film < {} & winner == {} & name == \\\"{}\\\"\".format(year, win, actor_name))\n",
    "    return len(filtered)"
   ]
  },
  {
   "cell_type": "code",
   "execution_count": null,
   "metadata": {},
   "outputs": [],
   "source": [
    "# Takes ~40 seconds\n",
    "actors['awards'] = [count_awards(row['primaryName'], row['Movie release date'], True) for (index, row) in actors.iterrows()]\n"
   ]
  },
  {
   "cell_type": "code",
   "execution_count": null,
   "metadata": {},
   "outputs": [],
   "source": [
    "actors"
   ]
  },
  {
   "cell_type": "code",
   "execution_count": null,
   "metadata": {},
   "outputs": [],
   "source": [
    "actors.awards.unique()"
   ]
  },
  {
   "cell_type": "markdown",
   "metadata": {},
   "source": [
    "# 99 Final Data Analysis \n",
    "Lets have a look at what our final database looks like"
   ]
  },
  {
   "cell_type": "code",
   "execution_count": null,
   "metadata": {},
   "outputs": [],
   "source": [
    "# get unfiltered movies with IMDb scores -> We select that years  that will not be plotted withg the filtered data\n",
    "movies_ufR = movies_uf.query('`Movie release date` >= @max_movie_year').copy()\n",
    "movies_ufL = movies_uf.query('`Movie release date` <= @min_movie_year').copy()\n",
    "\n",
    "# get filtered and unfiltered drama movies\n",
    "drama_movies = movies[movies['Movie genres'].apply(lambda x: 'Drama' in x.values())]\n",
    "drama_movies_ufR = movies_uf[movies_uf['Movie genres'].apply(lambda x: 'Drama' in x.values())].query('`Movie release date` >= @max_movie_year').copy()\n",
    "drama_movies_ufL = movies_uf[movies_uf['Movie genres'].apply(lambda x: 'Drama' in x.values())].query('`Movie release date` <= @min_movie_year').copy()\n",
    "\n",
    "#There is a movie with a typo in the original dataset, we can change this manually\n",
    "meta_movie[\"Movie release date\"][meta_movie[\"Movie release date\"]==1010] = 2010\n",
    "\n",
    "# Count all movies without merging with IMDb\n",
    "all_movie_counts = meta_movie['Wikipedia movie ID'].groupby(meta_movie['Movie release date']).count()\n",
    "\n",
    "# Count movies after merging with IMDb with and wothout filtering\n",
    "movie_counts = movies['Wikipedia movie ID'].groupby(movies['Movie release date']).count()\n",
    "movie_counts_ufL = movies_ufL['Wikipedia movie ID'].groupby(movies_ufL['Movie release date']).count()\n",
    "movie_counts_ufR = movies_ufR['Wikipedia movie ID'].groupby(movies_ufR['Movie release date']).count()\n",
    "\n",
    "# Count drama movies aafter merging with IMDb with and without filtering\n",
    "drama_counts = drama_movies['Wikipedia movie ID'].groupby(drama_movies['Movie release date']).count()\n",
    "drama_counts_ufL = drama_movies_ufL['Wikipedia movie ID'].groupby(drama_movies_ufL['Movie release date']).count()\n",
    "drama_counts_ufR = drama_movies_ufR['Wikipedia movie ID'].groupby(drama_movies_ufR['Movie release date']).count()\n",
    "\n",
    "#       ----- PLOT -----\n",
    "fig, axes = plt.subplots(1, 2, figsize=(13, 6), sharey= True)\n",
    "\n",
    "# subplot 1: plot all movie counts\n",
    "axes[0].set_title('Movie count per Year')\n",
    "axes[0].set_ylabel('Number of movies')\n",
    "axes[0].set_xlabel('Year')\n",
    "axes[0].plot(all_movie_counts.index, all_movie_counts.values, color= 'C0', label= 'All movies')\n",
    "axes[0].plot(movie_counts.index, movie_counts.values, color= 'C1', label= 'All movies with IMDb scores - filtered')\n",
    "axes[0].plot(movie_counts_ufL.index, movie_counts_ufL.values, color= 'C1', linestyle = '--',label= 'All movies with IMDb scores - unfiltered')\n",
    "axes[0].plot(movie_counts_ufR.index, movie_counts_ufR.values, color= 'C1', linestyle = '--')\n",
    "axes[0].plot(drama_counts.index, drama_counts.values, color = 'C2', label='Dramas with IMDb scores - filtered')\n",
    "axes[0].plot(drama_counts_ufL.index, drama_counts_ufL.values, color ='C2', linestyle = '--', label='Dramas with IMDb scores - unfiltered')\n",
    "axes[0].plot(drama_counts_ufR.index, drama_counts_ufR.values, color ='C2', linestyle = '--')\n",
    "axes[0].legend(loc=\"upper left\")\n",
    "\n",
    "axes[1].set_title('Frequency of movie duration')\n",
    "axes[1].set_xlabel('Movie duration [minutes]')\n",
    "axes[1].hist(movies['Movie runtime'], bins = 100, color = 'C1', label= 'All movies with IMDb scores - filtered')\n",
    "axes[1].hist(drama_movies['Movie runtime'], bins = 100, color = 'C2', label= 'Dramas with IMDb scores - filtered')\n",
    "axes[1].legend(loc=\"upper right\")\n",
    "\n",
    "plt.tight_layout()\n",
    "plt.show()"
   ]
  },
  {
   "cell_type": "markdown",
   "metadata": {},
   "source": [
    "*Observation:* We have dramatically reduced the amount of films in our dataset, however the distribution of the drama movies is similar to the all movies with IMDb score in both `Release date` and `Film duration`. We still have close to 15'000 drama movies to base our analysis on."
   ]
  },
  {
   "cell_type": "code",
   "execution_count": null,
   "metadata": {},
   "outputs": [],
   "source": [
    "movies.describe()"
   ]
  },
  {
   "cell_type": "code",
   "execution_count": null,
   "metadata": {},
   "outputs": [],
   "source": [
    "drama_movies.describe()"
   ]
  },
  {
   "cell_type": "markdown",
   "metadata": {},
   "source": []
  }
 ],
 "metadata": {
  "kernelspec": {
   "display_name": "ada",
   "language": "python",
   "name": "python3"
  },
  "language_info": {
   "codemirror_mode": {
    "name": "ipython",
    "version": 3
   },
   "file_extension": ".py",
   "mimetype": "text/x-python",
   "name": "python",
   "nbconvert_exporter": "python",
   "pygments_lexer": "ipython3",
   "version": "3.12.0"
  },
  "orig_nbformat": 4
 },
 "nbformat": 4,
 "nbformat_minor": 2
}
